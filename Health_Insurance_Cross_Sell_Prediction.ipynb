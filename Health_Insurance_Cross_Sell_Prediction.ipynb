{
 "cells": [
  {
   "cell_type": "markdown",
   "id": "RnWUbvp8S2qK",
   "metadata": {
    "id": "RnWUbvp8S2qK"
   },
   "source": [
    "**Topic : Health Insurance Cross Sell Prediction**\n",
    "\n",
    "My client is an Insurance company that has provided Health Insurance to its customers now they need my help in building a model to predict whether the policyholders (customers) from past year will also be interested in Vehicle Insurance provided by the company.\n",
    "\n",
    "My task is to build a model to predict whether a customer would be interested in Vehicle Insurance is extremely helpful for the company because it can then accordingly plan its communication strategy to reach out to those customers and optimise its business model and revenue.\n",
    "\n",
    "In order to predict, whether the customer would be interested in Vehicle insurance, you have information about demographics (gender, age, region code type), Vehicles (Vehicle Age, Damage), Policy (Premium, sourcing channel) etc.\n",
    "\n",
    "This dataset is taken from [Kaggle](https://www.kaggle.com/anmolkumar/health-insurance-cross-sell-prediction) .\n",
    "\n",
    "While considering this information we can also provide other insights like : \n",
    "\n",
    "*   Which age group people prefers to take insurance ?\n",
    "*   What are the conditions of vehicle which are registered for insurance ?\n",
    "*   What kind of people like to take the insurance ?\n",
    "*   How much amount need to be paid as Annual Premium ?\n"
   ]
  },
  {
   "cell_type": "markdown",
   "id": "8L1cprNhMIHa",
   "metadata": {
    "id": "8L1cprNhMIHa"
   },
   "source": [
    "**Importing Libraries**"
   ]
  },
  {
   "cell_type": "code",
   "execution_count": 1,
   "id": "3fd01106",
   "metadata": {
    "id": "3fd01106"
   },
   "outputs": [],
   "source": [
    "import numpy as np\n",
    "import pandas as pd\n",
    "import matplotlib.pyplot as plt\n",
    "import seaborn as sb\n",
    "import warnings\n",
    "warnings.filterwarnings('ignore')\n",
    "import pickle"
   ]
  },
  {
   "cell_type": "markdown",
   "id": "wi4FaSB7Mo0q",
   "metadata": {
    "id": "wi4FaSB7Mo0q"
   },
   "source": [
    "After importing all essential libraries we will move towards our dataset"
   ]
  },
  {
   "cell_type": "markdown",
   "id": "jn4xYB4oMVx8",
   "metadata": {
    "id": "jn4xYB4oMVx8"
   },
   "source": [
    "**Importing our dataset**"
   ]
  },
  {
   "cell_type": "code",
   "execution_count": 2,
   "id": "ac8ab423",
   "metadata": {
    "colab": {
     "base_uri": "https://localhost:8080/",
     "height": 257
    },
    "id": "ac8ab423",
    "outputId": "bd9d9cf7-e193-442b-dbca-e7370ef99f54"
   },
   "outputs": [
    {
     "data": {
      "text/html": [
       "<div>\n",
       "<style scoped>\n",
       "    .dataframe tbody tr th:only-of-type {\n",
       "        vertical-align: middle;\n",
       "    }\n",
       "\n",
       "    .dataframe tbody tr th {\n",
       "        vertical-align: top;\n",
       "    }\n",
       "\n",
       "    .dataframe thead th {\n",
       "        text-align: right;\n",
       "    }\n",
       "</style>\n",
       "<table border=\"1\" class=\"dataframe\">\n",
       "  <thead>\n",
       "    <tr style=\"text-align: right;\">\n",
       "      <th></th>\n",
       "      <th>Gender</th>\n",
       "      <th>Age</th>\n",
       "      <th>Driving_License</th>\n",
       "      <th>Region_Code</th>\n",
       "      <th>Previously_Insured</th>\n",
       "      <th>Vehicle_Age</th>\n",
       "      <th>Vehicle_Damage</th>\n",
       "      <th>Annual_Premium</th>\n",
       "      <th>Policy_Sales_Channel</th>\n",
       "      <th>Vintage</th>\n",
       "      <th>Response</th>\n",
       "    </tr>\n",
       "    <tr>\n",
       "      <th>id</th>\n",
       "      <th></th>\n",
       "      <th></th>\n",
       "      <th></th>\n",
       "      <th></th>\n",
       "      <th></th>\n",
       "      <th></th>\n",
       "      <th></th>\n",
       "      <th></th>\n",
       "      <th></th>\n",
       "      <th></th>\n",
       "      <th></th>\n",
       "    </tr>\n",
       "  </thead>\n",
       "  <tbody>\n",
       "    <tr>\n",
       "      <th>1</th>\n",
       "      <td>Male</td>\n",
       "      <td>44</td>\n",
       "      <td>1</td>\n",
       "      <td>28.0</td>\n",
       "      <td>0</td>\n",
       "      <td>&gt; 2 Years</td>\n",
       "      <td>Yes</td>\n",
       "      <td>40454.0</td>\n",
       "      <td>26.0</td>\n",
       "      <td>217</td>\n",
       "      <td>1</td>\n",
       "    </tr>\n",
       "    <tr>\n",
       "      <th>2</th>\n",
       "      <td>Male</td>\n",
       "      <td>76</td>\n",
       "      <td>1</td>\n",
       "      <td>3.0</td>\n",
       "      <td>0</td>\n",
       "      <td>1-2 Year</td>\n",
       "      <td>No</td>\n",
       "      <td>33536.0</td>\n",
       "      <td>26.0</td>\n",
       "      <td>183</td>\n",
       "      <td>0</td>\n",
       "    </tr>\n",
       "    <tr>\n",
       "      <th>3</th>\n",
       "      <td>Male</td>\n",
       "      <td>47</td>\n",
       "      <td>1</td>\n",
       "      <td>28.0</td>\n",
       "      <td>0</td>\n",
       "      <td>&gt; 2 Years</td>\n",
       "      <td>Yes</td>\n",
       "      <td>38294.0</td>\n",
       "      <td>26.0</td>\n",
       "      <td>27</td>\n",
       "      <td>1</td>\n",
       "    </tr>\n",
       "    <tr>\n",
       "      <th>4</th>\n",
       "      <td>Male</td>\n",
       "      <td>21</td>\n",
       "      <td>1</td>\n",
       "      <td>11.0</td>\n",
       "      <td>1</td>\n",
       "      <td>&lt; 1 Year</td>\n",
       "      <td>No</td>\n",
       "      <td>28619.0</td>\n",
       "      <td>152.0</td>\n",
       "      <td>203</td>\n",
       "      <td>0</td>\n",
       "    </tr>\n",
       "    <tr>\n",
       "      <th>5</th>\n",
       "      <td>Female</td>\n",
       "      <td>29</td>\n",
       "      <td>1</td>\n",
       "      <td>41.0</td>\n",
       "      <td>1</td>\n",
       "      <td>&lt; 1 Year</td>\n",
       "      <td>No</td>\n",
       "      <td>27496.0</td>\n",
       "      <td>152.0</td>\n",
       "      <td>39</td>\n",
       "      <td>0</td>\n",
       "    </tr>\n",
       "  </tbody>\n",
       "</table>\n",
       "</div>"
      ],
      "text/plain": [
       "    Gender  Age  Driving_License  ...  Policy_Sales_Channel  Vintage Response\n",
       "id                                ...                                        \n",
       "1     Male   44                1  ...                  26.0      217        1\n",
       "2     Male   76                1  ...                  26.0      183        0\n",
       "3     Male   47                1  ...                  26.0       27        1\n",
       "4     Male   21                1  ...                 152.0      203        0\n",
       "5   Female   29                1  ...                 152.0       39        0\n",
       "\n",
       "[5 rows x 11 columns]"
      ]
     },
     "execution_count": 2,
     "metadata": {
      "tags": []
     },
     "output_type": "execute_result"
    }
   ],
   "source": [
    "data = pd.read_csv(\"InsuranceData.csv\",index_col=0)\n",
    "data.head()"
   ]
  },
  {
   "cell_type": "markdown",
   "id": "lwPKYfrYH9M7",
   "metadata": {
    "id": "lwPKYfrYH9M7"
   },
   "source": [
    "**Description of Data**\n",
    "1. id :\tUnique ID for the customer\n",
    "2. Gender :\tGender of the customer\n",
    "3. Age :\tAge of the customer\n",
    "4. Driving_License :\n",
    "        0 : Customer does not have DL\n",
    "        1 : Customer already has DL\n",
    "5. Region_Code :\tUnique code for the region of the customer\n",
    "6. Previously_Insured :\t\n",
    "        1 : Customer already has Vehicle Insurance\n",
    "        0 : Customer doesn't have Vehicle Insurance\n",
    "7. Vehicle_Age :\tAge of the Vehicle\n",
    "8. Vehicle_Damage :\t\n",
    "        1 : Customer got his/her vehicle damaged in the past. \n",
    "        0 : Customer didn't get his/her vehicle damaged in the past.\n",
    "9. Annual_Premium :\tThe amount customer needs to pay as premium in the year\n",
    "10. PolicySalesChannel :\tAnonymized Code for the channel of outreaching to the customer ie. Different Agents, Over Mail, Over Phone, In Person, etc.\n",
    "11. Vintage :\tNumber of Days, Customer has been associated with the company\n",
    "12. Response :\t\n",
    "        1 : Customer is interested\n",
    "        0 : Customer is not interested"
   ]
  },
  {
   "cell_type": "code",
   "execution_count": 3,
   "id": "319690a5",
   "metadata": {
    "colab": {
     "base_uri": "https://localhost:8080/"
    },
    "id": "319690a5",
    "outputId": "969209e6-3998-462e-dec6-701e74dfc5f0"
   },
   "outputs": [
    {
     "data": {
      "text/plain": [
       "(381109, 11)"
      ]
     },
     "execution_count": 3,
     "metadata": {
      "tags": []
     },
     "output_type": "execute_result"
    }
   ],
   "source": [
    "data.shape #To see the size of our dataset"
   ]
  },
  {
   "cell_type": "code",
   "execution_count": 4,
   "id": "c853f56f",
   "metadata": {
    "colab": {
     "base_uri": "https://localhost:8080/"
    },
    "id": "c853f56f",
    "outputId": "d36d7af6-e4af-4b5b-e9c5-b84832741a39"
   },
   "outputs": [
    {
     "data": {
      "text/plain": [
       "Index(['Gender', 'Age', 'Driving_License', 'Region_Code', 'Previously_Insured',\n",
       "       'Vehicle_Age', 'Vehicle_Damage', 'Annual_Premium',\n",
       "       'Policy_Sales_Channel', 'Vintage', 'Response'],\n",
       "      dtype='object')"
      ]
     },
     "execution_count": 4,
     "metadata": {
      "tags": []
     },
     "output_type": "execute_result"
    }
   ],
   "source": [
    "data.columns #To overview the feature columns"
   ]
  },
  {
   "cell_type": "markdown",
   "id": "tnCfu_W6NWBR",
   "metadata": {
    "id": "tnCfu_W6NWBR"
   },
   "source": [
    "We have huge dataset with 381109 rows and 11 columns .\n",
    "Before starting to work with data we need to know whether there are any NAN/Null values . If yes , we will be needed to do **Data Cleaning** part ."
   ]
  },
  {
   "cell_type": "markdown",
   "id": "pm9Fw1TrOGT4",
   "metadata": {
    "id": "pm9Fw1TrOGT4"
   },
   "source": [
    "**Data Cleaning**"
   ]
  },
  {
   "cell_type": "code",
   "execution_count": 5,
   "id": "249b998f",
   "metadata": {
    "colab": {
     "base_uri": "https://localhost:8080/"
    },
    "id": "249b998f",
    "outputId": "c7c1be94-2d3d-4961-a465-c636794a801b"
   },
   "outputs": [
    {
     "data": {
      "text/plain": [
       "Gender                  0\n",
       "Age                     0\n",
       "Driving_License         0\n",
       "Region_Code             0\n",
       "Previously_Insured      0\n",
       "Vehicle_Age             0\n",
       "Vehicle_Damage          0\n",
       "Annual_Premium          0\n",
       "Policy_Sales_Channel    0\n",
       "Vintage                 0\n",
       "Response                0\n",
       "dtype: int64"
      ]
     },
     "execution_count": 5,
     "metadata": {
      "tags": []
     },
     "output_type": "execute_result"
    }
   ],
   "source": [
    "data.isna().sum() #To check whether there are any nan values ."
   ]
  },
  {
   "cell_type": "markdown",
   "id": "16p6GZBoOjQJ",
   "metadata": {
    "id": "16p6GZBoOjQJ"
   },
   "source": [
    "Since there is no nan value in our dataset, no data cleaning part is required ."
   ]
  },
  {
   "cell_type": "markdown",
   "id": "X2EH6JpvO4JV",
   "metadata": {
    "id": "X2EH6JpvO4JV"
   },
   "source": [
    "Before working on the data and train our model we need to find some insights from our data for better understanding ."
   ]
  },
  {
   "cell_type": "code",
   "execution_count": 6,
   "id": "a523639d",
   "metadata": {
    "colab": {
     "base_uri": "https://localhost:8080/"
    },
    "id": "a523639d",
    "outputId": "d74d2d6f-3e73-4f7b-c430-2eef94373612"
   },
   "outputs": [
    {
     "data": {
      "text/plain": [
       "Gender  Vehicle_Damage\n",
       "Female  No                  418\n",
       "        Yes               17767\n",
       "Male    No                  564\n",
       "        Yes               27961\n",
       "Name: Response, dtype: int64"
      ]
     },
     "execution_count": 6,
     "metadata": {
      "tags": []
     },
     "output_type": "execute_result"
    }
   ],
   "source": [
    "data.groupby(['Gender','Vehicle_Damage'])['Response'].sum()"
   ]
  },
  {
   "cell_type": "code",
   "execution_count": 7,
   "id": "08a168eb",
   "metadata": {
    "colab": {
     "base_uri": "https://localhost:8080/"
    },
    "id": "08a168eb",
    "outputId": "2c02fad4-721c-4581-fc04-422d2defacc5"
   },
   "outputs": [
    {
     "data": {
      "text/plain": [
       "Gender  Previously_Insured\n",
       "Female  0                     18123\n",
       "        1                        62\n",
       "Male    0                     28429\n",
       "        1                        96\n",
       "Name: Response, dtype: int64"
      ]
     },
     "execution_count": 7,
     "metadata": {
      "tags": []
     },
     "output_type": "execute_result"
    }
   ],
   "source": [
    "data.groupby(['Gender','Previously_Insured'])['Response'].sum()"
   ]
  },
  {
   "cell_type": "markdown",
   "id": "Mzu1lRusPyle",
   "metadata": {
    "id": "Mzu1lRusPyle"
   },
   "source": [
    "From above lines of code we depict that :\n",
    "\n",
    "\n",
    "*   Majority of the people who have experienced vehicle damage in past are interested to take insurance.\n",
    "*   Majority of the people who does have any current insurance going on are interested to take insurance .\n",
    "\n"
   ]
  },
  {
   "cell_type": "code",
   "execution_count": 8,
   "id": "hfim7n1JFb-I",
   "metadata": {
    "colab": {
     "base_uri": "https://localhost:8080/",
     "height": 487
    },
    "id": "hfim7n1JFb-I",
    "outputId": "7e58a00d-b497-4f43-9796-759db3c82062"
   },
   "outputs": [
    {
     "data": {
      "image/png": "[encoded data removed]",
      "text/plain": [
       "<Figure size 576x576 with 1 Axes>"
      ]
     },
     "metadata": {
      "tags": []
     },
     "output_type": "display_data"
    }
   ],
   "source": [
    "plt.figure(figsize=(8,8))\n",
    "plt.pie(data.Gender.value_counts(),startangle=85,autopct='%.2f',radius=3,\n",
    "        labels=['Male','Female'])\n",
    "plt.title('Gender',fontdict={'fontsize':20,'fontweight':'bold'})\n",
    "plt.axis('equal')\n",
    "plt.show()"
   ]
  },
  {
   "cell_type": "code",
   "execution_count": 9,
   "id": "63b88192",
   "metadata": {
    "colab": {
     "base_uri": "https://localhost:8080/",
     "height": 514
    },
    "id": "63b88192",
    "outputId": "b3f84ce7-fa02-47eb-d64b-9fbf91b774f4"
   },
   "outputs": [
    {
     "data": {
      "text/plain": [
       "<matplotlib.axes._subplots.AxesSubplot at 0x7f8bf50cbd10>"
      ]
     },
     "execution_count": 9,
     "metadata": {
      "tags": []
     },
     "output_type": "execute_result"
    },
    {
     "data": {
      "image/png": "[encoded data removed]",
      "text/plain": [
       "<Figure size 720x576 with 1 Axes>"
      ]
     },
     "metadata": {
      "needs_background": "light",
      "tags": []
     },
     "output_type": "display_data"
    }
   ],
   "source": [
    "plt.figure(figsize=(10,8))\n",
    "sb.countplot(data.Gender,hue=data.Response)"
   ]
  },
  {
   "cell_type": "code",
   "execution_count": 10,
   "id": "214bef9d",
   "metadata": {
    "colab": {
     "base_uri": "https://localhost:8080/"
    },
    "id": "214bef9d",
    "outputId": "1a81b475-9957-47a2-e47f-8519d0acd6d1"
   },
   "outputs": [
    {
     "data": {
      "text/plain": [
       "Region_Code\n",
       "0.0       174\n",
       "1.0       109\n",
       "2.0       287\n",
       "3.0      1181\n",
       "4.0       285\n",
       "5.0       148\n",
       "6.0       439\n",
       "7.0       432\n",
       "8.0      3257\n",
       "9.0       253\n",
       "10.0      263\n",
       "11.0     1041\n",
       "12.0      312\n",
       "13.0      364\n",
       "14.0      422\n",
       "15.0      958\n",
       "16.0      134\n",
       "17.0      184\n",
       "18.0      678\n",
       "19.0      250\n",
       "20.0      223\n",
       "21.0      303\n",
       "22.0       83\n",
       "23.0      300\n",
       "24.0      342\n",
       "25.0      107\n",
       "26.0      187\n",
       "27.0      209\n",
       "28.0    19917\n",
       "29.0     1365\n",
       "30.0      900\n",
       "31.0      197\n",
       "32.0      239\n",
       "33.0      760\n",
       "34.0      126\n",
       "35.0      865\n",
       "36.0      703\n",
       "37.0      436\n",
       "38.0      389\n",
       "39.0      574\n",
       "40.0      153\n",
       "41.0     2224\n",
       "42.0       44\n",
       "43.0      244\n",
       "44.0       33\n",
       "45.0      615\n",
       "46.0     2032\n",
       "47.0      652\n",
       "48.0      477\n",
       "49.0      137\n",
       "50.0      642\n",
       "51.0       28\n",
       "52.0       33\n",
       "Name: Response, dtype: int64"
      ]
     },
     "execution_count": 10,
     "metadata": {
      "tags": []
     },
     "output_type": "execute_result"
    }
   ],
   "source": [
    "data.groupby(['Region_Code'])['Response'].sum()"
   ]
  },
  {
   "cell_type": "markdown",
   "id": "jDcMhOk0Ljta",
   "metadata": {
    "id": "jDcMhOk0Ljta"
   },
   "source": [
    "Most of the people who responded positively are from region 3,8,11,28,29,41,46 ."
   ]
  },
  {
   "cell_type": "code",
   "execution_count": 11,
   "id": "293cbf25",
   "metadata": {
    "colab": {
     "base_uri": "https://localhost:8080/",
     "height": 488
    },
    "id": "293cbf25",
    "outputId": "bd25b442-5661-4f35-f81d-c1bb2a4dd3f2"
   },
   "outputs": [
    {
     "data": {
      "image/png": "[encoded data removed]",
      "text/plain": [
       "<Figure size 576x576 with 1 Axes>"
      ]
     },
     "metadata": {
      "tags": []
     },
     "output_type": "display_data"
    }
   ],
   "source": [
    "plt.figure(figsize=(8,8))\n",
    "plt.pie(data.Vehicle_Age.value_counts(),startangle=80,autopct='%.2f',radius=3,\n",
    "        labels=['1-2 years','< 1 year','> 2 years'])\n",
    "plt.title('Vehical Age',fontdict={'fontsize':22,'fontweight':'bold'})\n",
    "plt.axis('equal')\n",
    "plt.show()"
   ]
  },
  {
   "cell_type": "markdown",
   "id": "jxhuG1EVbaDR",
   "metadata": {
    "id": "jxhuG1EVbaDR"
   },
   "source": [
    "From above pie-chart, majority of our crowd has their vechicles in range of 1-2 Year's ."
   ]
  },
  {
   "cell_type": "code",
   "execution_count": 12,
   "id": "61bf6fde",
   "metadata": {
    "colab": {
     "base_uri": "https://localhost:8080/",
     "height": 515
    },
    "id": "61bf6fde",
    "outputId": "5082bd41-ccae-4d7e-a921-4d3ccf84678d"
   },
   "outputs": [
    {
     "data": {
      "text/plain": [
       "<matplotlib.axes._subplots.AxesSubplot at 0x7f8bf45b76d0>"
      ]
     },
     "execution_count": 12,
     "metadata": {
      "tags": []
     },
     "output_type": "execute_result"
    },
    {
     "data": {
      "image/png": "[encoded data removed]",
      "text/plain": [
       "<Figure size 720x576 with 1 Axes>"
      ]
     },
     "metadata": {
      "needs_background": "light",
      "tags": []
     },
     "output_type": "display_data"
    }
   ],
   "source": [
    "plt.figure(figsize=(10,8))\n",
    "sb.countplot(data.Vehicle_Age,hue=data.Response)"
   ]
  },
  {
   "cell_type": "markdown",
   "id": "9yN6qXkCTCHv",
   "metadata": {
    "id": "9yN6qXkCTCHv"
   },
   "source": [
    "\n",
    "\n",
    "*   People who's vechile age lies between 1-2 Year's of age are more keen towards buying vehicle insurance .\n",
    "*   People who's vechile age is more than 2 Year's may already have previous insurance, hence less interested .\n",
    "\n",
    "*   People who's vechile age is less than 1 Year are not too much interested in buying insurance .\n",
    "\n",
    "\n",
    "\n",
    "\n",
    "\n"
   ]
  },
  {
   "cell_type": "code",
   "execution_count": 13,
   "id": "1dfe1c7f",
   "metadata": {
    "colab": {
     "base_uri": "https://localhost:8080/",
     "height": 488
    },
    "id": "1dfe1c7f",
    "outputId": "84b5bd60-fa3b-48d0-a022-4a90a3b01b1d"
   },
   "outputs": [
    {
     "data": {
      "image/png": "[encoded data removed]",
      "text/plain": [
       "<Figure size 576x576 with 1 Axes>"
      ]
     },
     "metadata": {
      "tags": []
     },
     "output_type": "display_data"
    }
   ],
   "source": [
    "plt.figure(figsize=(8,8))\n",
    "plt.pie(data.Vehicle_Damage.value_counts(),startangle=80,autopct='%.2f',radius=3\n",
    "        ,labels=['Yes','No'])\n",
    "plt.title('Damaged Vehicle',fontdict={'fontsize':22,'fontweight':'bold'})\n",
    "plt.axis('equal')\n",
    "plt.show()"
   ]
  },
  {
   "cell_type": "code",
   "execution_count": 14,
   "id": "75b965bb",
   "metadata": {
    "colab": {
     "base_uri": "https://localhost:8080/",
     "height": 515
    },
    "id": "75b965bb",
    "outputId": "9722c458-1920-4e3e-8455-b1890166ee78"
   },
   "outputs": [
    {
     "data": {
      "text/plain": [
       "<matplotlib.axes._subplots.AxesSubplot at 0x7f8bf4515510>"
      ]
     },
     "execution_count": 14,
     "metadata": {
      "tags": []
     },
     "output_type": "execute_result"
    },
    {
     "data": {
      "image/png": "[encoded data removed]",
      "text/plain": [
       "<Figure size 576x576 with 1 Axes>"
      ]
     },
     "metadata": {
      "needs_background": "light",
      "tags": []
     },
     "output_type": "display_data"
    }
   ],
   "source": [
    "plt.figure(figsize=(8,8))\n",
    "sb.countplot(data.Vehicle_Damage,hue=data.Response)"
   ]
  },
  {
   "cell_type": "markdown",
   "id": "xdmf5CLPcJfx",
   "metadata": {
    "id": "xdmf5CLPcJfx"
   },
   "source": [
    "Most of the people who are giving us positive response have sustained any damage to their vehicle in past ."
   ]
  },
  {
   "cell_type": "code",
   "execution_count": 15,
   "id": "bc3433ae",
   "metadata": {
    "colab": {
     "base_uri": "https://localhost:8080/",
     "height": 514
    },
    "id": "bc3433ae",
    "outputId": "fe57797f-9350-42c4-acf4-0aeed5a03e5e"
   },
   "outputs": [
    {
     "data": {
      "text/plain": [
       "<matplotlib.axes._subplots.AxesSubplot at 0x7f8bf445aa90>"
      ]
     },
     "execution_count": 15,
     "metadata": {
      "tags": []
     },
     "output_type": "execute_result"
    },
    {
     "data": {
      "image/png": "[encoded data removed]",
      "text/plain": [
       "<Figure size 576x576 with 1 Axes>"
      ]
     },
     "metadata": {
      "needs_background": "light",
      "tags": []
     },
     "output_type": "display_data"
    }
   ],
   "source": [
    "plt.figure(figsize=(8,8))\n",
    "sb.distplot(data.Age[data.Response==1])\n",
    "sb.distplot(data.Age[data.Response==0])"
   ]
  },
  {
   "cell_type": "markdown",
   "id": "13VWwV1Bc7l_",
   "metadata": {
    "id": "13VWwV1Bc7l_"
   },
   "source": [
    "\n",
    "\n",
    "*   Here the blue curve represents to positive response i.e Response = 1 .\n",
    "\n",
    "*   And the orange curve represents to negative response i.e Response = 0 .\n",
    "\n",
    "*   We are getting positive response from those people who are likely to fall in category of age 35 - 50 Year's .\n",
    "\n",
    "*   Where as people who are less than 35 Year's old are less interested to take any vehicle insurance . \n",
    "\n",
    "*   From here what we can depict is that we need to focus on our audience who lies between the 35 - 50 Year's of age . \n",
    "\n",
    "\n",
    "\n"
   ]
  },
  {
   "cell_type": "code",
   "execution_count": 16,
   "id": "f9328538",
   "metadata": {
    "colab": {
     "base_uri": "https://localhost:8080/",
     "height": 526
    },
    "id": "f9328538",
    "outputId": "03ffc19f-4dea-4a65-ffdb-0089f539aba1"
   },
   "outputs": [
    {
     "data": {
      "image/png": "[encoded data removed]",
      "text/plain": [
       "<Figure size 576x576 with 1 Axes>"
      ]
     },
     "metadata": {
      "needs_background": "light",
      "tags": []
     },
     "output_type": "display_data"
    },
    {
     "name": "stdout",
     "output_type": "stream",
     "text": [
      "30564.389581458323\n"
     ]
    }
   ],
   "source": [
    "plt.figure(figsize=(8,8))\n",
    "sb.distplot(data.Annual_Premium[data.Response==1])\n",
    "plt.grid()\n",
    "plt.show()\n",
    "avg_Annual_Premium = data.Annual_Premium.mean()\n",
    "print(\"{}\".format(avg_Annual_Premium))"
   ]
  },
  {
   "cell_type": "code",
   "execution_count": 17,
   "id": "5c1e8280",
   "metadata": {
    "colab": {
     "base_uri": "https://localhost:8080/",
     "height": 543
    },
    "id": "5c1e8280",
    "outputId": "649e0c43-2d8d-40f3-8959-874c296baeca"
   },
   "outputs": [
    {
     "data": {
      "image/png": "[encoded data removed]",
      "text/plain": [
       "<Figure size 1800x864 with 1 Axes>"
      ]
     },
     "metadata": {
      "needs_background": "light",
      "tags": []
     },
     "output_type": "display_data"
    }
   ],
   "source": [
    "plt.figure(figsize=(25,12))\n",
    "sb.countplot(data = data , x = 'Region_Code')\n",
    "plt.grid(axis='y')"
   ]
  },
  {
   "cell_type": "markdown",
   "id": "dFR9czCqjM56",
   "metadata": {
    "id": "dFR9czCqjM56"
   },
   "source": [
    "**Mapping Values**\\\n",
    "Converting string values of some features into integer values ."
   ]
  },
  {
   "cell_type": "code",
   "execution_count": 18,
   "id": "874027b1",
   "metadata": {
    "colab": {
     "base_uri": "https://localhost:8080/",
     "height": 474
    },
    "id": "874027b1",
    "outputId": "9bf8722b-d54a-4eb8-d16d-541833d1aa83"
   },
   "outputs": [
    {
     "data": {
      "text/html": [
       "<div>\n",
       "<style scoped>\n",
       "    .dataframe tbody tr th:only-of-type {\n",
       "        vertical-align: middle;\n",
       "    }\n",
       "\n",
       "    .dataframe tbody tr th {\n",
       "        vertical-align: top;\n",
       "    }\n",
       "\n",
       "    .dataframe thead th {\n",
       "        text-align: right;\n",
       "    }\n",
       "</style>\n",
       "<table border=\"1\" class=\"dataframe\">\n",
       "  <thead>\n",
       "    <tr style=\"text-align: right;\">\n",
       "      <th></th>\n",
       "      <th>Gender</th>\n",
       "      <th>Age</th>\n",
       "      <th>Driving_License</th>\n",
       "      <th>Region_Code</th>\n",
       "      <th>Previously_Insured</th>\n",
       "      <th>Vehicle_Age</th>\n",
       "      <th>Vehicle_Damage</th>\n",
       "      <th>Annual_Premium</th>\n",
       "      <th>Policy_Sales_Channel</th>\n",
       "      <th>Vintage</th>\n",
       "      <th>Response</th>\n",
       "    </tr>\n",
       "    <tr>\n",
       "      <th>id</th>\n",
       "      <th></th>\n",
       "      <th></th>\n",
       "      <th></th>\n",
       "      <th></th>\n",
       "      <th></th>\n",
       "      <th></th>\n",
       "      <th></th>\n",
       "      <th></th>\n",
       "      <th></th>\n",
       "      <th></th>\n",
       "      <th></th>\n",
       "    </tr>\n",
       "  </thead>\n",
       "  <tbody>\n",
       "    <tr>\n",
       "      <th>1</th>\n",
       "      <td>1</td>\n",
       "      <td>44</td>\n",
       "      <td>1</td>\n",
       "      <td>28.0</td>\n",
       "      <td>0</td>\n",
       "      <td>2</td>\n",
       "      <td>1</td>\n",
       "      <td>40454.0</td>\n",
       "      <td>26.0</td>\n",
       "      <td>217</td>\n",
       "      <td>1</td>\n",
       "    </tr>\n",
       "    <tr>\n",
       "      <th>2</th>\n",
       "      <td>1</td>\n",
       "      <td>76</td>\n",
       "      <td>1</td>\n",
       "      <td>3.0</td>\n",
       "      <td>0</td>\n",
       "      <td>1</td>\n",
       "      <td>0</td>\n",
       "      <td>33536.0</td>\n",
       "      <td>26.0</td>\n",
       "      <td>183</td>\n",
       "      <td>0</td>\n",
       "    </tr>\n",
       "    <tr>\n",
       "      <th>3</th>\n",
       "      <td>1</td>\n",
       "      <td>47</td>\n",
       "      <td>1</td>\n",
       "      <td>28.0</td>\n",
       "      <td>0</td>\n",
       "      <td>2</td>\n",
       "      <td>1</td>\n",
       "      <td>38294.0</td>\n",
       "      <td>26.0</td>\n",
       "      <td>27</td>\n",
       "      <td>1</td>\n",
       "    </tr>\n",
       "    <tr>\n",
       "      <th>4</th>\n",
       "      <td>1</td>\n",
       "      <td>21</td>\n",
       "      <td>1</td>\n",
       "      <td>11.0</td>\n",
       "      <td>1</td>\n",
       "      <td>0</td>\n",
       "      <td>0</td>\n",
       "      <td>28619.0</td>\n",
       "      <td>152.0</td>\n",
       "      <td>203</td>\n",
       "      <td>0</td>\n",
       "    </tr>\n",
       "    <tr>\n",
       "      <th>5</th>\n",
       "      <td>2</td>\n",
       "      <td>29</td>\n",
       "      <td>1</td>\n",
       "      <td>41.0</td>\n",
       "      <td>1</td>\n",
       "      <td>0</td>\n",
       "      <td>0</td>\n",
       "      <td>27496.0</td>\n",
       "      <td>152.0</td>\n",
       "      <td>39</td>\n",
       "      <td>0</td>\n",
       "    </tr>\n",
       "    <tr>\n",
       "      <th>...</th>\n",
       "      <td>...</td>\n",
       "      <td>...</td>\n",
       "      <td>...</td>\n",
       "      <td>...</td>\n",
       "      <td>...</td>\n",
       "      <td>...</td>\n",
       "      <td>...</td>\n",
       "      <td>...</td>\n",
       "      <td>...</td>\n",
       "      <td>...</td>\n",
       "      <td>...</td>\n",
       "    </tr>\n",
       "    <tr>\n",
       "      <th>381105</th>\n",
       "      <td>1</td>\n",
       "      <td>74</td>\n",
       "      <td>1</td>\n",
       "      <td>26.0</td>\n",
       "      <td>1</td>\n",
       "      <td>1</td>\n",
       "      <td>0</td>\n",
       "      <td>30170.0</td>\n",
       "      <td>26.0</td>\n",
       "      <td>88</td>\n",
       "      <td>0</td>\n",
       "    </tr>\n",
       "    <tr>\n",
       "      <th>381106</th>\n",
       "      <td>1</td>\n",
       "      <td>30</td>\n",
       "      <td>1</td>\n",
       "      <td>37.0</td>\n",
       "      <td>1</td>\n",
       "      <td>0</td>\n",
       "      <td>0</td>\n",
       "      <td>40016.0</td>\n",
       "      <td>152.0</td>\n",
       "      <td>131</td>\n",
       "      <td>0</td>\n",
       "    </tr>\n",
       "    <tr>\n",
       "      <th>381107</th>\n",
       "      <td>1</td>\n",
       "      <td>21</td>\n",
       "      <td>1</td>\n",
       "      <td>30.0</td>\n",
       "      <td>1</td>\n",
       "      <td>0</td>\n",
       "      <td>0</td>\n",
       "      <td>35118.0</td>\n",
       "      <td>160.0</td>\n",
       "      <td>161</td>\n",
       "      <td>0</td>\n",
       "    </tr>\n",
       "    <tr>\n",
       "      <th>381108</th>\n",
       "      <td>2</td>\n",
       "      <td>68</td>\n",
       "      <td>1</td>\n",
       "      <td>14.0</td>\n",
       "      <td>0</td>\n",
       "      <td>2</td>\n",
       "      <td>1</td>\n",
       "      <td>44617.0</td>\n",
       "      <td>124.0</td>\n",
       "      <td>74</td>\n",
       "      <td>0</td>\n",
       "    </tr>\n",
       "    <tr>\n",
       "      <th>381109</th>\n",
       "      <td>1</td>\n",
       "      <td>46</td>\n",
       "      <td>1</td>\n",
       "      <td>29.0</td>\n",
       "      <td>0</td>\n",
       "      <td>1</td>\n",
       "      <td>0</td>\n",
       "      <td>41777.0</td>\n",
       "      <td>26.0</td>\n",
       "      <td>237</td>\n",
       "      <td>0</td>\n",
       "    </tr>\n",
       "  </tbody>\n",
       "</table>\n",
       "<p>381109 rows × 11 columns</p>\n",
       "</div>"
      ],
      "text/plain": [
       "        Gender  Age  Driving_License  ...  Policy_Sales_Channel  Vintage  Response\n",
       "id                                    ...                                         \n",
       "1            1   44                1  ...                  26.0      217         1\n",
       "2            1   76                1  ...                  26.0      183         0\n",
       "3            1   47                1  ...                  26.0       27         1\n",
       "4            1   21                1  ...                 152.0      203         0\n",
       "5            2   29                1  ...                 152.0       39         0\n",
       "...        ...  ...              ...  ...                   ...      ...       ...\n",
       "381105       1   74                1  ...                  26.0       88         0\n",
       "381106       1   30                1  ...                 152.0      131         0\n",
       "381107       1   21                1  ...                 160.0      161         0\n",
       "381108       2   68                1  ...                 124.0       74         0\n",
       "381109       1   46                1  ...                  26.0      237         0\n",
       "\n",
       "[381109 rows x 11 columns]"
      ]
     },
     "execution_count": 18,
     "metadata": {
      "tags": []
     },
     "output_type": "execute_result"
    }
   ],
   "source": [
    "data.Gender=data.Gender.map({'Male':1 , 'Female':2})\n",
    "data.Vehicle_Damage=data.Vehicle_Damage.map({'Yes':1 , 'No':0})\n",
    "data.Vehicle_Age=data.Vehicle_Age.map({'< 1 Year':0 , '1-2 Year':1 \n",
    "                                       , '> 2 Years':2})\n",
    "data"
   ]
  },
  {
   "cell_type": "markdown",
   "id": "VXzRVYi7jxx-",
   "metadata": {
    "id": "VXzRVYi7jxx-"
   },
   "source": [
    "Plotting HeatMap to see correlation between features ."
   ]
  },
  {
   "cell_type": "code",
   "execution_count": 19,
   "id": "bc645163",
   "metadata": {
    "colab": {
     "base_uri": "https://localhost:8080/",
     "height": 709
    },
    "id": "bc645163",
    "outputId": "e2b7005a-4164-4861-820c-d0e65e5127c0"
   },
   "outputs": [
    {
     "data": {
      "text/plain": [
       "<matplotlib.axes._subplots.AxesSubplot at 0x7f8be98ce910>"
      ]
     },
     "execution_count": 19,
     "metadata": {
      "tags": []
     },
     "output_type": "execute_result"
    },
    {
     "data": {
      "image/png": "[encoded data removed]",
      "text/plain": [
       "<Figure size 936x720 with 2 Axes>"
      ]
     },
     "metadata": {
      "needs_background": "light",
      "tags": []
     },
     "output_type": "display_data"
    }
   ],
   "source": [
    "plt.figure(figsize=(13,10))\n",
    "correlation = data.corr()\n",
    "sb.heatmap(correlation , annot=True)"
   ]
  },
  {
   "cell_type": "markdown",
   "id": "C2Cr6szllotF",
   "metadata": {
    "id": "C2Cr6szllotF"
   },
   "source": [
    "**Data Preprocessing**\\\n",
    "We will be using StandardScaler method for preprocessing . StandardScaler follows Standard Normal Distribution . Therefore, it makes mean = 0 and scales the data to unit variance .\n"
   ]
  },
  {
   "cell_type": "code",
   "execution_count": 20,
   "id": "7db098c0",
   "metadata": {
    "id": "7db098c0"
   },
   "outputs": [],
   "source": [
    "from sklearn.preprocessing import StandardScaler\n",
    "sc = StandardScaler()\n",
    "X = data.drop(['Response','Gender','Vintage','Region_Code','Driving_License']\n",
    "              ,axis=1)\n",
    "X = sc.fit_transform(X)\n",
    "Y = data['Response']"
   ]
  },
  {
   "cell_type": "markdown",
   "id": "88r_5pLCm4Py",
   "metadata": {
    "id": "88r_5pLCm4Py"
   },
   "source": [
    "**Spliting train-test Data**"
   ]
  },
  {
   "cell_type": "code",
   "execution_count": 21,
   "id": "9957c995",
   "metadata": {
    "id": "9957c995"
   },
   "outputs": [],
   "source": [
    "from sklearn.model_selection import train_test_split\n",
    "X_train , X_test , Y_train , Y_test = train_test_split(X , Y , test_size=0.30 \n",
    "                                                       , random_state=21)"
   ]
  },
  {
   "cell_type": "markdown",
   "id": "4yWiRWRcn9LR",
   "metadata": {
    "id": "4yWiRWRcn9LR"
   },
   "source": [
    "**Model Training and Evaluation**\n",
    "*   By seeing the dataset we have got an idea that either people will agree to take insurance or they will not .\n",
    "*   So there are only two possible outcomes either Yes(Response=1) or No(Response=0) regarding taking insurance .\n",
    "*   Therefore, this becomes a classification problem . To solve classification problem there are several algorithms like :\n",
    "\n",
    "    1.   Logistic regression\n",
    "    2.   Decision Trees\n",
    "    1.   Random Forest\n",
    "    2.   XGBoost \n",
    "\n",
    "*   We will be training our model on these algorithms and evaluate which gives us higher accuracy . \n",
    "\n",
    "\n",
    "\n",
    "\n",
    "\n"
   ]
  },
  {
   "cell_type": "code",
   "execution_count": 22,
   "id": "f4wkKniosvcy",
   "metadata": {
    "id": "f4wkKniosvcy"
   },
   "outputs": [],
   "source": [
    "accuracy_scores = {}"
   ]
  },
  {
   "cell_type": "markdown",
   "id": "440f6752",
   "metadata": {
    "id": "440f6752"
   },
   "source": [
    "1. LOGISTIC REGRESSION"
   ]
  },
  {
   "cell_type": "code",
   "execution_count": 23,
   "id": "05d19b50",
   "metadata": {
    "colab": {
     "base_uri": "https://localhost:8080/"
    },
    "id": "05d19b50",
    "outputId": "651b3c28-4493-4dcf-abbb-814199425337"
   },
   "outputs": [
    {
     "data": {
      "text/plain": [
       "LogisticRegression(C=1.0, class_weight=None, dual=False, fit_intercept=True,\n",
       "                   intercept_scaling=1, l1_ratio=None, max_iter=100,\n",
       "                   multi_class='auto', n_jobs=None, penalty='l2',\n",
       "                   random_state=None, solver='lbfgs', tol=0.0001, verbose=0,\n",
       "                   warm_start=False)"
      ]
     },
     "execution_count": 23,
     "metadata": {
      "tags": []
     },
     "output_type": "execute_result"
    }
   ],
   "source": [
    "from sklearn.linear_model import LogisticRegression\n",
    "from sklearn.metrics import confusion_matrix,classification_report,accuracy_score\n",
    "LRModel = LogisticRegression()\n",
    "LRModel.fit(X_train,Y_train)"
   ]
  },
  {
   "cell_type": "code",
   "execution_count": 24,
   "id": "3421452a",
   "metadata": {
    "id": "3421452a"
   },
   "outputs": [],
   "source": [
    "predict_YLR = LRModel.predict(X_test)\n",
    "train_ylr = LRModel.predict(X_train)\n",
    "confusion_matrix(Y_test,predict_YLR)\n",
    "accuracy_scores['LRModel']=accuracy_score(Y_test,predict_YLR)*100"
   ]
  },
  {
   "cell_type": "code",
   "execution_count": 25,
   "id": "d6beee4a",
   "metadata": {
    "colab": {
     "base_uri": "https://localhost:8080/"
    },
    "id": "d6beee4a",
    "outputId": "25efb6da-60b0-4a83-ab35-d38b23927600"
   },
   "outputs": [
    {
     "name": "stdout",
     "output_type": "stream",
     "text": [
      "TRAIN REPORT : \n",
      "\n",
      "accuracy score on trained data: 87.7125378594776\n",
      "TEST REPORT : \n",
      "\n",
      "accuracy score on test data : 87.77168446555238\n"
     ]
    }
   ],
   "source": [
    "print(\"TRAIN REPORT : \\n\")\n",
    "print(\"accuracy score on trained data: {}\".format(accuracy_score(Y_train\n",
    "                                                              ,train_ylr)*100))\n",
    "\n",
    "print(\"TEST REPORT : \\n\")\n",
    "print(\"accuracy score on test data : {}\".format(accuracy_score(Y_test\n",
    "                                                            ,predict_YLR)*100))"
   ]
  },
  {
   "cell_type": "markdown",
   "id": "3296fe63",
   "metadata": {
    "id": "3296fe63"
   },
   "source": [
    "2. DECISION TREE"
   ]
  },
  {
   "cell_type": "code",
   "execution_count": 26,
   "id": "5d423640",
   "metadata": {
    "colab": {
     "base_uri": "https://localhost:8080/"
    },
    "id": "5d423640",
    "outputId": "148fba63-b207-46bd-96e4-1c06aca4da53"
   },
   "outputs": [
    {
     "data": {
      "text/plain": [
       "DecisionTreeClassifier(ccp_alpha=0.0, class_weight=None, criterion='entropy',\n",
       "                       max_depth=25, max_features='sqrt', max_leaf_nodes=None,\n",
       "                       min_impurity_decrease=0.0, min_impurity_split=None,\n",
       "                       min_samples_leaf=1, min_samples_split=2,\n",
       "                       min_weight_fraction_leaf=0.0, presort='deprecated',\n",
       "                       random_state=21, splitter='best')"
      ]
     },
     "execution_count": 26,
     "metadata": {
      "tags": []
     },
     "output_type": "execute_result"
    }
   ],
   "source": [
    "from sklearn import tree\n",
    "DTModel = tree.DecisionTreeClassifier(max_depth=25,max_features='sqrt',random_state=21,criterion='entropy')\n",
    "DTModel.fit(X_train,Y_train)"
   ]
  },
  {
   "cell_type": "code",
   "execution_count": 27,
   "id": "7f84cd26",
   "metadata": {
    "colab": {
     "base_uri": "https://localhost:8080/"
    },
    "id": "7f84cd26",
    "outputId": "0c1bd20b-081a-4e62-e81b-6972a90edbc2"
   },
   "outputs": [
    {
     "name": "stdout",
     "output_type": "stream",
     "text": [
      "[[97077  3297]\n",
      " [12498  1461]]\n"
     ]
    }
   ],
   "source": [
    "predict_YDT=DTModel.predict(X_test)\n",
    "train_ydt = DTModel.predict(X_train)\n",
    "print(confusion_matrix(Y_test,predict_YDT))\n",
    "accuracy_scores['DTModel']=accuracy_score(Y_test,predict_YDT)*100"
   ]
  },
  {
   "cell_type": "code",
   "execution_count": 28,
   "id": "35c7c6a7",
   "metadata": {
    "colab": {
     "base_uri": "https://localhost:8080/"
    },
    "id": "35c7c6a7",
    "outputId": "c1fb86f0-93ab-4cb5-e0b6-8fcb8eae2b37"
   },
   "outputs": [
    {
     "name": "stdout",
     "output_type": "stream",
     "text": [
      "TRAIN REPORT : \n",
      "\n",
      "              precision    recall  f1-score   support\n",
      "\n",
      "           0       0.91      1.00      0.95    234025\n",
      "           1       0.89      0.30      0.45     32751\n",
      "\n",
      "    accuracy                           0.91    266776\n",
      "   macro avg       0.90      0.65      0.70    266776\n",
      "weighted avg       0.91      0.91      0.89    266776\n",
      "\n",
      "TEST REPORT : \n",
      "\n",
      "              precision    recall  f1-score   support\n",
      "\n",
      "           0       0.89      0.97      0.92    100374\n",
      "           1       0.31      0.10      0.16     13959\n",
      "\n",
      "    accuracy                           0.86    114333\n",
      "   macro avg       0.60      0.54      0.54    114333\n",
      "weighted avg       0.82      0.86      0.83    114333\n",
      "\n"
     ]
    }
   ],
   "source": [
    "print(\"TRAIN REPORT : \\n\")\n",
    "print(classification_report(Y_train,train_ydt))\n",
    "\n",
    "print(\"TEST REPORT : \\n\")\n",
    "print(classification_report(Y_test,predict_YDT))"
   ]
  },
  {
   "cell_type": "markdown",
   "id": "577f9a60",
   "metadata": {
    "id": "577f9a60"
   },
   "source": [
    "3. RANDOM FOREST"
   ]
  },
  {
   "cell_type": "code",
   "execution_count": 29,
   "id": "d841bdfa",
   "metadata": {
    "colab": {
     "base_uri": "https://localhost:8080/"
    },
    "id": "d841bdfa",
    "outputId": "951eb6f1-841d-4813-9cee-f2cd76302d1f"
   },
   "outputs": [
    {
     "data": {
      "text/plain": [
       "RandomForestClassifier(bootstrap=True, ccp_alpha=0.0, class_weight=None,\n",
       "                       criterion='entropy', max_depth=23, max_features='sqrt',\n",
       "                       max_leaf_nodes=None, max_samples=None,\n",
       "                       min_impurity_decrease=0.0, min_impurity_split=None,\n",
       "                       min_samples_leaf=1, min_samples_split=2,\n",
       "                       min_weight_fraction_leaf=0.0, n_estimators=150,\n",
       "                       n_jobs=None, oob_score=False, random_state=0, verbose=0,\n",
       "                       warm_start=False)"
      ]
     },
     "execution_count": 29,
     "metadata": {
      "tags": []
     },
     "output_type": "execute_result"
    }
   ],
   "source": [
    "from sklearn.ensemble import RandomForestClassifier\n",
    "RFModel = RandomForestClassifier(criterion='entropy',random_state=0\n",
    "                                 ,n_estimators=150,max_depth=23\n",
    "                                 ,max_features='sqrt')\n",
    "RFModel.fit(X_train,Y_train)"
   ]
  },
  {
   "cell_type": "code",
   "execution_count": 30,
   "id": "db18e011",
   "metadata": {
    "colab": {
     "base_uri": "https://localhost:8080/"
    },
    "id": "db18e011",
    "outputId": "aa0ec3f5-2749-42f2-cb54-249a3e19148f"
   },
   "outputs": [
    {
     "name": "stdout",
     "output_type": "stream",
     "text": [
      "[[98623  1751]\n",
      " [12939  1020]]\n"
     ]
    }
   ],
   "source": [
    "predict_YRF=RFModel.predict(X_test)\n",
    "train_yrf = RFModel.predict(X_train)\n",
    "print(confusion_matrix(Y_test,predict_YRF))\n",
    "accuracy_scores['RFModel']=accuracy_score(Y_test,predict_YRF)*100"
   ]
  },
  {
   "cell_type": "code",
   "execution_count": 31,
   "id": "30c387f9",
   "metadata": {
    "colab": {
     "base_uri": "https://localhost:8080/"
    },
    "id": "30c387f9",
    "outputId": "8beaf0f9-fe89-4d49-fc5a-5af6a5a49768"
   },
   "outputs": [
    {
     "name": "stdout",
     "output_type": "stream",
     "text": [
      "TRAIN REPORT : \n",
      "\n",
      "              precision    recall  f1-score   support\n",
      "\n",
      "           0       0.91      1.00      0.95    234025\n",
      "           1       0.97      0.27      0.42     32751\n",
      "\n",
      "    accuracy                           0.91    266776\n",
      "   macro avg       0.94      0.63      0.69    266776\n",
      "weighted avg       0.91      0.91      0.89    266776\n",
      "\n",
      "TEST REPORT : \n",
      "\n",
      "              precision    recall  f1-score   support\n",
      "\n",
      "           0       0.88      0.98      0.93    100374\n",
      "           1       0.37      0.07      0.12     13959\n",
      "\n",
      "    accuracy                           0.87    114333\n",
      "   macro avg       0.63      0.53      0.53    114333\n",
      "weighted avg       0.82      0.87      0.83    114333\n",
      "\n"
     ]
    }
   ],
   "source": [
    "print(\"TRAIN REPORT : \\n\")\n",
    "print(classification_report(Y_train,train_yrf))\n",
    "\n",
    "print(\"TEST REPORT : \\n\")\n",
    "print(classification_report(Y_test,predict_YRF))"
   ]
  },
  {
   "cell_type": "markdown",
   "id": "3qLEKhfOeUhz",
   "metadata": {
    "id": "3qLEKhfOeUhz"
   },
   "source": [
    "XGBOOST"
   ]
  },
  {
   "cell_type": "code",
   "execution_count": 32,
   "id": "pgETP95Reigg",
   "metadata": {
    "colab": {
     "base_uri": "https://localhost:8080/"
    },
    "id": "pgETP95Reigg",
    "outputId": "74587e8d-475d-4878-8d4a-a9d9c1410922"
   },
   "outputs": [
    {
     "data": {
      "text/plain": [
       "XGBClassifier(base_score=0.5, booster='gbtree', colsample_bylevel=1,\n",
       "              colsample_bynode=1, colsample_bytree=1, gamma=0,\n",
       "              learning_rate=0.02, max_delta_step=0, max_depth=3,\n",
       "              min_child_weight=1, missing=None, n_estimators=600, n_jobs=1,\n",
       "              nthread=None, objective='binary:logistic', random_state=0,\n",
       "              reg_alpha=0, reg_lambda=1, scale_pos_weight=1, seed=None,\n",
       "              silent=None, subsample=1, verbosity=1)"
      ]
     },
     "execution_count": 32,
     "metadata": {
      "tags": []
     },
     "output_type": "execute_result"
    }
   ],
   "source": [
    "from xgboost import XGBClassifier\n",
    "xgb = XGBClassifier(n_estimators=600,learning_rate=0.02)\n",
    "xgb.fit(X_train,Y_train)"
   ]
  },
  {
   "cell_type": "code",
   "execution_count": 33,
   "id": "NFVxS4fSgXcP",
   "metadata": {
    "colab": {
     "base_uri": "https://localhost:8080/"
    },
    "id": "NFVxS4fSgXcP",
    "outputId": "7250c935-1326-4b84-b912-85442490f954"
   },
   "outputs": [
    {
     "name": "stdout",
     "output_type": "stream",
     "text": [
      "[[100363     11]\n",
      " [ 13948     11]]\n"
     ]
    }
   ],
   "source": [
    "predict_xgb=xgb.predict(X_test)\n",
    "train_xgb = xgb.predict(X_train)\n",
    "print(confusion_matrix(Y_test,predict_xgb))\n",
    "accuracy_scores['xgb']=accuracy_score(Y_test,predict_xgb)*100"
   ]
  },
  {
   "cell_type": "code",
   "execution_count": 34,
   "id": "Fh0TmGA9hf5X",
   "metadata": {
    "colab": {
     "base_uri": "https://localhost:8080/"
    },
    "id": "Fh0TmGA9hf5X",
    "outputId": "75873ac8-c9b3-4e67-9fed-9d5cd6000317"
   },
   "outputs": [
    {
     "name": "stdout",
     "output_type": "stream",
     "text": [
      "TRAIN REPORT : \n",
      "\n",
      "              precision    recall  f1-score   support\n",
      "\n",
      "           0       0.88      1.00      0.93    234025\n",
      "           1       0.77      0.00      0.00     32751\n",
      "\n",
      "    accuracy                           0.88    266776\n",
      "   macro avg       0.83      0.50      0.47    266776\n",
      "weighted avg       0.86      0.88      0.82    266776\n",
      "\n",
      "TRAIN REPORT : \n",
      "\n",
      "              precision    recall  f1-score   support\n",
      "\n",
      "           0       0.88      1.00      0.93    100374\n",
      "           1       0.50      0.00      0.00     13959\n",
      "\n",
      "    accuracy                           0.88    114333\n",
      "   macro avg       0.69      0.50      0.47    114333\n",
      "weighted avg       0.83      0.88      0.82    114333\n",
      "\n"
     ]
    }
   ],
   "source": [
    "print(\"TRAIN REPORT : \\n\")\n",
    "print(classification_report(Y_train,train_xgb))\n",
    "\n",
    "print(\"TRAIN REPORT : \\n\")\n",
    "print(classification_report(Y_test,predict_xgb))"
   ]
  },
  {
   "cell_type": "code",
   "execution_count": 35,
   "id": "9cZZB2OUuNRT",
   "metadata": {
    "colab": {
     "base_uri": "https://localhost:8080/",
     "height": 500
    },
    "id": "9cZZB2OUuNRT",
    "outputId": "a5daa5e5-4412-4c59-c96b-76dd1eb6b59a"
   },
   "outputs": [
    {
     "name": "stdout",
     "output_type": "stream",
     "text": [
      "{'LRModel': 87.77168446555238, 'DTModel': 86.18509091863241, 'RFModel': 87.15156603955113, 'xgb': 87.7909265041589}\n"
     ]
    },
    {
     "data": {
      "image/png": "[encoded data removed]",
      "text/plain": [
       "<Figure size 720x576 with 1 Axes>"
      ]
     },
     "metadata": {
      "needs_background": "light",
      "tags": []
     },
     "output_type": "display_data"
    }
   ],
   "source": [
    "plt.figure(figsize=(10, 8))\n",
    "accuracies = list(accuracy_scores.values())\n",
    "names = list(accuracy_scores.keys())\n",
    "sb.barplot(x=accuracies, y=names)\n",
    "plt.grid\n",
    "plt.legend\n",
    "plt.show\n",
    "print(accuracy_scores)"
   ]
  },
  {
   "cell_type": "code",
   "execution_count": 36,
   "id": "e0_yoYe7RJ2c",
   "metadata": {
    "id": "e0_yoYe7RJ2c"
   },
   "outputs": [],
   "source": [
    "pickle.dump(LRModel,open('Insurance(LRModel).pkl','wb'))\n",
    "pickle.dump(DTModel,open('Insurance(DTModel).pkl','wb'))\n",
    "pickle.dump(RFModel,open('Insurance(RFModel).pkl','wb'))\n",
    "pickle.dump(xgb,open('Insurance(xgb).pkl','wb'))"
   ]
  },
  {
   "cell_type": "markdown",
   "id": "_j-n0rYCyTcJ",
   "metadata": {
    "id": "_j-n0rYCyTcJ"
   },
   "source": [
    "**Conclusion**\n",
    "\n",
    "*   People who have experienced vehicle damage in past are interested to take insurance.\n",
    "*   People who will be intrested in insurance will mostly have faced damage to their vehicle in past .\n",
    "*   People who have used their vehicle's for 1-2 Year's will give good response toward insurance policy .\n",
    "*   On an average a customer has to pay an amount of ₹ 30,564 .\n",
    "*   Logistic Regression model and XGBoost model have almost same accuracy but XGBoost is slightly better than Logistic Regression model.\n",
    "*   Also, we might see that while working with huge data and using algorithms like Random Forest and Decision Tree has a high chance of getting our model overfitted which might result in bad accuracy on training data . This can be seen above ."
   ]
  }
 ],
 "metadata": {
  "accelerator": "TPU",
  "colab": {
   "collapsed_sections": [],
   "name": "Health_Insurance_Cross_Sell_Prediction.ipynb",
   "provenance": []
  },
  "kernelspec": {
   "display_name": "Python 3",
   "language": "python",
   "name": "python3"
  },
  "language_info": {
   "codemirror_mode": {
    "name": "ipython",
    "version": 3
   },
   "file_extension": ".py",
   "mimetype": "text/x-python",
   "name": "python",
   "nbconvert_exporter": "python",
   "pygments_lexer": "ipython3",
   "version": "3.9.4"
  }
 },
 "nbformat": 4,
 "nbformat_minor": 5
}
