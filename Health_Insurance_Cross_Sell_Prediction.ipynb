{
  "nbformat": 4,
  "nbformat_minor": 5,
  "metadata": {
    "accelerator": "TPU",
    "colab": {
      "name": "Health_Insurance_Cross_Sell_Prediction.ipynb",
      "provenance": [],
      "collapsed_sections": []
    },
    "kernelspec": {
      "display_name": "Python 3",
      "language": "python",
      "name": "python3"
    },
    "language_info": {
      "codemirror_mode": {
        "name": "ipython",
        "version": 3
      },
      "file_extension": ".py",
      "mimetype": "text/x-python",
      "name": "python",
      "nbconvert_exporter": "python",
      "pygments_lexer": "ipython3",
      "version": "3.9.4"
    }
  },
  "cells": [
    {
      "cell_type": "markdown",
      "metadata": {
        "id": "RnWUbvp8S2qK"
      },
      "source": [
        "**Topic : Health Insurance Cross Sell Prediction**\n",
        "\n",
        "My client is an Insurance company that has provided Health Insurance to its customers now they need my help in building a model to predict whether the policyholders (customers) from past year will also be interested in Vehicle Insurance provided by the company.\n",
        "\n",
        "My task is to build a model to predict whether a customer would be interested in Vehicle Insurance is extremely helpful for the company because it can then accordingly plan its communication strategy to reach out to those customers and optimise its business model and revenue.\n",
        "\n",
        "In order to predict, whether the customer would be interested in Vehicle insurance, you have information about demographics (gender, age, region code type), Vehicles (Vehicle Age, Damage), Policy (Premium, sourcing channel) etc.\n",
        "\n",
        "This dataset is taken from [Kaggle](https://www.kaggle.com/anmolkumar/health-insurance-cross-sell-prediction) .\n",
        "\n",
        "While considering this information we can also provide other insights like : \n",
        "\n",
        "*   Which age group people prefers to take insurance ?\n",
        "*   What are the conditions of vehicle which are registered for insurance ?\n",
        "*   What kind of people like to take the insurance ?\n",
        "*   How much amount need to be paid as Annual Premium ?\n"
      ],
      "id": "RnWUbvp8S2qK"
    },
    {
      "cell_type": "markdown",
      "metadata": {
        "id": "8L1cprNhMIHa"
      },
      "source": [
        "**Importing Libraries**"
      ],
      "id": "8L1cprNhMIHa"
    },
    {
      "cell_type": "code",
      "metadata": {
        "id": "3fd01106"
      },
      "source": [
        "import numpy as np\n",
        "import pandas as pd\n",
        "import matplotlib.pyplot as plt\n",
        "import seaborn as sb\n",
        "import warnings\n",
        "warnings.filterwarnings('ignore')\n",
        "import pickle"
      ],
      "id": "3fd01106",
      "execution_count": 1,
      "outputs": []
    },
    {
      "cell_type": "markdown",
      "metadata": {
        "id": "wi4FaSB7Mo0q"
      },
      "source": [
        "After importing all essential libraries we will move towards our dataset"
      ],
      "id": "wi4FaSB7Mo0q"
    },
    {
      "cell_type": "markdown",
      "metadata": {
        "id": "jn4xYB4oMVx8"
      },
      "source": [
        "**Importing our dataset**"
      ],
      "id": "jn4xYB4oMVx8"
    },
    {
      "cell_type": "code",
      "metadata": {
        "colab": {
          "base_uri": "https://localhost:8080/",
          "height": 254
        },
        "id": "ac8ab423",
        "outputId": "bc3310d5-c2ec-4f8a-b723-5b5172a5e0a7"
      },
      "source": [
        "data = pd.read_csv(\"/InsuranceData.csv\",index_col=0)\n",
        "data.head()"
      ],
      "id": "ac8ab423",
      "execution_count": 2,
      "outputs": [
        {
          "output_type": "execute_result",
          "data": {
            "text/html": [
              "<div>\n",
              "<style scoped>\n",
              "    .dataframe tbody tr th:only-of-type {\n",
              "        vertical-align: middle;\n",
              "    }\n",
              "\n",
              "    .dataframe tbody tr th {\n",
              "        vertical-align: top;\n",
              "    }\n",
              "\n",
              "    .dataframe thead th {\n",
              "        text-align: right;\n",
              "    }\n",
              "</style>\n",
              "<table border=\"1\" class=\"dataframe\">\n",
              "  <thead>\n",
              "    <tr style=\"text-align: right;\">\n",
              "      <th></th>\n",
              "      <th>Gender</th>\n",
              "      <th>Age</th>\n",
              "      <th>Driving_License</th>\n",
              "      <th>Region_Code</th>\n",
              "      <th>Previously_Insured</th>\n",
              "      <th>Vehicle_Age</th>\n",
              "      <th>Vehicle_Damage</th>\n",
              "      <th>Annual_Premium</th>\n",
              "      <th>Policy_Sales_Channel</th>\n",
              "      <th>Vintage</th>\n",
              "      <th>Response</th>\n",
              "    </tr>\n",
              "    <tr>\n",
              "      <th>id</th>\n",
              "      <th></th>\n",
              "      <th></th>\n",
              "      <th></th>\n",
              "      <th></th>\n",
              "      <th></th>\n",
              "      <th></th>\n",
              "      <th></th>\n",
              "      <th></th>\n",
              "      <th></th>\n",
              "      <th></th>\n",
              "      <th></th>\n",
              "    </tr>\n",
              "  </thead>\n",
              "  <tbody>\n",
              "    <tr>\n",
              "      <th>1</th>\n",
              "      <td>Male</td>\n",
              "      <td>44</td>\n",
              "      <td>1</td>\n",
              "      <td>28.0</td>\n",
              "      <td>0</td>\n",
              "      <td>&gt; 2 Years</td>\n",
              "      <td>Yes</td>\n",
              "      <td>40454.0</td>\n",
              "      <td>26.0</td>\n",
              "      <td>217</td>\n",
              "      <td>1</td>\n",
              "    </tr>\n",
              "    <tr>\n",
              "      <th>2</th>\n",
              "      <td>Male</td>\n",
              "      <td>76</td>\n",
              "      <td>1</td>\n",
              "      <td>3.0</td>\n",
              "      <td>0</td>\n",
              "      <td>1-2 Year</td>\n",
              "      <td>No</td>\n",
              "      <td>33536.0</td>\n",
              "      <td>26.0</td>\n",
              "      <td>183</td>\n",
              "      <td>0</td>\n",
              "    </tr>\n",
              "    <tr>\n",
              "      <th>3</th>\n",
              "      <td>Male</td>\n",
              "      <td>47</td>\n",
              "      <td>1</td>\n",
              "      <td>28.0</td>\n",
              "      <td>0</td>\n",
              "      <td>&gt; 2 Years</td>\n",
              "      <td>Yes</td>\n",
              "      <td>38294.0</td>\n",
              "      <td>26.0</td>\n",
              "      <td>27</td>\n",
              "      <td>1</td>\n",
              "    </tr>\n",
              "    <tr>\n",
              "      <th>4</th>\n",
              "      <td>Male</td>\n",
              "      <td>21</td>\n",
              "      <td>1</td>\n",
              "      <td>11.0</td>\n",
              "      <td>1</td>\n",
              "      <td>&lt; 1 Year</td>\n",
              "      <td>No</td>\n",
              "      <td>28619.0</td>\n",
              "      <td>152.0</td>\n",
              "      <td>203</td>\n",
              "      <td>0</td>\n",
              "    </tr>\n",
              "    <tr>\n",
              "      <th>5</th>\n",
              "      <td>Female</td>\n",
              "      <td>29</td>\n",
              "      <td>1</td>\n",
              "      <td>41.0</td>\n",
              "      <td>1</td>\n",
              "      <td>&lt; 1 Year</td>\n",
              "      <td>No</td>\n",
              "      <td>27496.0</td>\n",
              "      <td>152.0</td>\n",
              "      <td>39</td>\n",
              "      <td>0</td>\n",
              "    </tr>\n",
              "  </tbody>\n",
              "</table>\n",
              "</div>"
            ],
            "text/plain": [
              "    Gender  Age  Driving_License  ...  Policy_Sales_Channel  Vintage Response\n",
              "id                                ...                                        \n",
              "1     Male   44                1  ...                  26.0      217        1\n",
              "2     Male   76                1  ...                  26.0      183        0\n",
              "3     Male   47                1  ...                  26.0       27        1\n",
              "4     Male   21                1  ...                 152.0      203        0\n",
              "5   Female   29                1  ...                 152.0       39        0\n",
              "\n",
              "[5 rows x 11 columns]"
            ]
          },
          "metadata": {
            "tags": []
          },
          "execution_count": 2
        }
      ]
    },
    {
      "cell_type": "markdown",
      "metadata": {
        "id": "lwPKYfrYH9M7"
      },
      "source": [
        "**Description of Data**\n",
        "1. id :\tUnique ID for the customer\n",
        "2. Gender :\tGender of the customer\n",
        "3. Age :\tAge of the customer\n",
        "4. Driving_License :\n",
        "        0 : Customer does not have DL\n",
        "        1 : Customer already has DL\n",
        "5. Region_Code :\tUnique code for the region of the customer\n",
        "6. Previously_Insured :\t\n",
        "        1 : Customer already has Vehicle Insurance\n",
        "        0 : Customer doesn't have Vehicle Insurance\n",
        "7. Vehicle_Age :\tAge of the Vehicle\n",
        "8. Vehicle_Damage :\t\n",
        "        1 : Customer got his/her vehicle damaged in the past. \n",
        "        0 : Customer didn't get his/her vehicle damaged in the past.\n",
        "9. Annual_Premium :\tThe amount customer needs to pay as premium in the year\n",
        "10. PolicySalesChannel :\tAnonymized Code for the channel of outreaching to the customer ie. Different Agents, Over Mail, Over Phone, In Person, etc.\n",
        "11. Vintage :\tNumber of Days, Customer has been associated with the company\n",
        "12. Response :\t\n",
        "        1 : Customer is interested\n",
        "        0 : Customer is not interested"
      ],
      "id": "lwPKYfrYH9M7"
    },
    {
      "cell_type": "code",
      "metadata": {
        "colab": {
          "base_uri": "https://localhost:8080/"
        },
        "id": "319690a5",
        "outputId": "7b6f4c8b-0409-4ccd-ceb0-3964dd585587"
      },
      "source": [
        "data.shape #To see the size of our dataset"
      ],
      "id": "319690a5",
      "execution_count": 3,
      "outputs": [
        {
          "output_type": "execute_result",
          "data": {
            "text/plain": [
              "(381109, 11)"
            ]
          },
          "metadata": {
            "tags": []
          },
          "execution_count": 3
        }
      ]
    },
    {
      "cell_type": "code",
      "metadata": {
        "colab": {
          "base_uri": "https://localhost:8080/"
        },
        "id": "c853f56f",
        "outputId": "7cc6f6d2-0979-46be-aeb0-4acd22d63aaa"
      },
      "source": [
        "data.columns #To overview the feature columns"
      ],
      "id": "c853f56f",
      "execution_count": 4,
      "outputs": [
        {
          "output_type": "execute_result",
          "data": {
            "text/plain": [
              "Index(['Gender', 'Age', 'Driving_License', 'Region_Code', 'Previously_Insured',\n",
              "       'Vehicle_Age', 'Vehicle_Damage', 'Annual_Premium',\n",
              "       'Policy_Sales_Channel', 'Vintage', 'Response'],\n",
              "      dtype='object')"
            ]
          },
          "metadata": {
            "tags": []
          },
          "execution_count": 4
        }
      ]
    },
    {
      "cell_type": "markdown",
      "metadata": {
        "id": "tnCfu_W6NWBR"
      },
      "source": [
        "We have huge dataset with 381109 rows and 11 columns .\n",
        "Before starting to work with data we need to know whether there are any NAN/Null values . If yes , we will be needed to do **Data Cleaning** part ."
      ],
      "id": "tnCfu_W6NWBR"
    },
    {
      "cell_type": "markdown",
      "metadata": {
        "id": "pm9Fw1TrOGT4"
      },
      "source": [
        "**Data Cleaning**"
      ],
      "id": "pm9Fw1TrOGT4"
    },
    {
      "cell_type": "code",
      "metadata": {
        "colab": {
          "base_uri": "https://localhost:8080/"
        },
        "id": "249b998f",
        "outputId": "2cbb9e85-2a3a-4123-a605-96848d721f6f"
      },
      "source": [
        "data.isna().sum() #To check whether there are any nan values ."
      ],
      "id": "249b998f",
      "execution_count": 5,
      "outputs": [
        {
          "output_type": "execute_result",
          "data": {
            "text/plain": [
              "Gender                  0\n",
              "Age                     0\n",
              "Driving_License         0\n",
              "Region_Code             0\n",
              "Previously_Insured      0\n",
              "Vehicle_Age             0\n",
              "Vehicle_Damage          0\n",
              "Annual_Premium          0\n",
              "Policy_Sales_Channel    0\n",
              "Vintage                 0\n",
              "Response                0\n",
              "dtype: int64"
            ]
          },
          "metadata": {
            "tags": []
          },
          "execution_count": 5
        }
      ]
    },
    {
      "cell_type": "markdown",
      "metadata": {
        "id": "16p6GZBoOjQJ"
      },
      "source": [
        "Since there is no nan value in our dataset, no data cleaning part is required ."
      ],
      "id": "16p6GZBoOjQJ"
    },
    {
      "cell_type": "markdown",
      "metadata": {
        "id": "X2EH6JpvO4JV"
      },
      "source": [
        "Before working on the data and train our model we need to find some insights from our data for better understanding ."
      ],
      "id": "X2EH6JpvO4JV"
    },
    {
      "cell_type": "code",
      "metadata": {
        "colab": {
          "base_uri": "https://localhost:8080/"
        },
        "id": "a523639d",
        "outputId": "3a4f668b-68d1-4e18-b053-660eac1a4322"
      },
      "source": [
        "data.groupby(['Gender','Vehicle_Damage'])['Response'].sum()"
      ],
      "id": "a523639d",
      "execution_count": 6,
      "outputs": [
        {
          "output_type": "execute_result",
          "data": {
            "text/plain": [
              "Gender  Vehicle_Damage\n",
              "Female  No                  418\n",
              "        Yes               17767\n",
              "Male    No                  564\n",
              "        Yes               27961\n",
              "Name: Response, dtype: int64"
            ]
          },
          "metadata": {
            "tags": []
          },
          "execution_count": 6
        }
      ]
    },
    {
      "cell_type": "code",
      "metadata": {
        "colab": {
          "base_uri": "https://localhost:8080/"
        },
        "id": "08a168eb",
        "outputId": "f2b9914b-ee6e-4f92-afac-ad177fdc54f7"
      },
      "source": [
        "data.groupby(['Gender','Previously_Insured'])['Response'].sum()"
      ],
      "id": "08a168eb",
      "execution_count": 7,
      "outputs": [
        {
          "output_type": "execute_result",
          "data": {
            "text/plain": [
              "Gender  Previously_Insured\n",
              "Female  0                     18123\n",
              "        1                        62\n",
              "Male    0                     28429\n",
              "        1                        96\n",
              "Name: Response, dtype: int64"
            ]
          },
          "metadata": {
            "tags": []
          },
          "execution_count": 7
        }
      ]
    },
    {
      "cell_type": "markdown",
      "metadata": {
        "id": "Mzu1lRusPyle"
      },
      "source": [
        "From above lines of code we depict that :\n",
        "\n",
        "\n",
        "*   Majority of the people who have experienced vehicle damage in past are interested to take insurance.\n",
        "*   Majority of the people who does have any current insurance going on are interested to take insurance .\n",
        "\n"
      ],
      "id": "Mzu1lRusPyle"
    },
    {
      "cell_type": "code",
      "metadata": {
        "colab": {
          "base_uri": "https://localhost:8080/",
          "height": 487
        },
        "id": "hfim7n1JFb-I",
        "outputId": "5584769c-aa78-453b-ae76-e12946398baa"
      },
      "source": [
        "plt.figure(figsize=(8,8))\n",
        "plt.pie(data.Gender.value_counts(),startangle=85,autopct='%.2f',radius=3,\n",
        "        labels=['Male','Female'])\n",
        "plt.title('Gender',fontdict={'fontsize':20,'fontweight':'bold'})\n",
        "plt.axis('equal')\n",
        "plt.show()"
      ],
      "id": "hfim7n1JFb-I",
      "execution_count": 8,
      "outputs": [
        {
          "output_type": "display_data",
          "data": {
            "image/png": "[encoded data removed]",
            "text/plain": [
              "<Figure size 576x576 with 1 Axes>"
            ]
          },
          "metadata": {
            "tags": []
          }
        }
      ]
    },
    {
      "cell_type": "code",
      "metadata": {
        "colab": {
          "base_uri": "https://localhost:8080/",
          "height": 514
        },
        "id": "63b88192",
        "outputId": "dfc09389-41d5-4431-c4d3-81f642d1d51e"
      },
      "source": [
        "plt.figure(figsize=(10,8))\n",
        "sb.countplot(data.Gender,hue=data.Response)"
      ],
      "id": "63b88192",
      "execution_count": 9,
      "outputs": [
        {
          "output_type": "execute_result",
          "data": {
            "text/plain": [
              "<matplotlib.axes._subplots.AxesSubplot at 0x7f6da57ec5d0>"
            ]
          },
          "metadata": {
            "tags": []
          },
          "execution_count": 9
        },
        {
          "output_type": "display_data",
          "data": {
            "image/png": "[encoded data removed]",
            "text/plain": [
              "<Figure size 720x576 with 1 Axes>"
            ]
          },
          "metadata": {
            "tags": [],
            "needs_background": "light"
          }
        }
      ]
    },
    {
      "cell_type": "code",
      "metadata": {
        "colab": {
          "base_uri": "https://localhost:8080/"
        },
        "id": "214bef9d",
        "outputId": "fc6eda19-8c96-4876-869a-d9c926111cc0"
      },
      "source": [
        "data.groupby(['Region_Code'])['Response'].sum()"
      ],
      "id": "214bef9d",
      "execution_count": 10,
      "outputs": [
        {
          "output_type": "execute_result",
          "data": {
            "text/plain": [
              "Region_Code\n",
              "0.0       174\n",
              "1.0       109\n",
              "2.0       287\n",
              "3.0      1181\n",
              "4.0       285\n",
              "5.0       148\n",
              "6.0       439\n",
              "7.0       432\n",
              "8.0      3257\n",
              "9.0       253\n",
              "10.0      263\n",
              "11.0     1041\n",
              "12.0      312\n",
              "13.0      364\n",
              "14.0      422\n",
              "15.0      958\n",
              "16.0      134\n",
              "17.0      184\n",
              "18.0      678\n",
              "19.0      250\n",
              "20.0      223\n",
              "21.0      303\n",
              "22.0       83\n",
              "23.0      300\n",
              "24.0      342\n",
              "25.0      107\n",
              "26.0      187\n",
              "27.0      209\n",
              "28.0    19917\n",
              "29.0     1365\n",
              "30.0      900\n",
              "31.0      197\n",
              "32.0      239\n",
              "33.0      760\n",
              "34.0      126\n",
              "35.0      865\n",
              "36.0      703\n",
              "37.0      436\n",
              "38.0      389\n",
              "39.0      574\n",
              "40.0      153\n",
              "41.0     2224\n",
              "42.0       44\n",
              "43.0      244\n",
              "44.0       33\n",
              "45.0      615\n",
              "46.0     2032\n",
              "47.0      652\n",
              "48.0      477\n",
              "49.0      137\n",
              "50.0      642\n",
              "51.0       28\n",
              "52.0       33\n",
              "Name: Response, dtype: int64"
            ]
          },
          "metadata": {
            "tags": []
          },
          "execution_count": 10
        }
      ]
    },
    {
      "cell_type": "markdown",
      "metadata": {
        "id": "jDcMhOk0Ljta"
      },
      "source": [
        "Most of the people who responded positively are from region 3,8,11,28,29,41,46 ."
      ],
      "id": "jDcMhOk0Ljta"
    },
    {
      "cell_type": "code",
      "metadata": {
        "colab": {
          "base_uri": "https://localhost:8080/",
          "height": 488
        },
        "id": "293cbf25",
        "outputId": "36804938-0d74-4ab9-ad5d-ec29af0a70fa"
      },
      "source": [
        "plt.figure(figsize=(8,8))\n",
        "plt.pie(data.Vehicle_Age.value_counts(),startangle=80,autopct='%.2f',radius=3,\n",
        "        labels=['1-2 years','< 1 year','> 2 years'])\n",
        "plt.title('Vehical Age',fontdict={'fontsize':22,'fontweight':'bold'})\n",
        "plt.axis('equal')\n",
        "plt.show()"
      ],
      "id": "293cbf25",
      "execution_count": 11,
      "outputs": [
        {
          "output_type": "display_data",
          "data": {
            "image/png": "[encoded data removed]",
            "text/plain": [
              "<Figure size 576x576 with 1 Axes>"
            ]
          },
          "metadata": {
            "tags": []
          }
        }
      ]
    },
    {
      "cell_type": "markdown",
      "metadata": {
        "id": "jxhuG1EVbaDR"
      },
      "source": [
        "From above pie-chart, majority of our crowd has their vechicles in range of 1-2 Year's ."
      ],
      "id": "jxhuG1EVbaDR"
    },
    {
      "cell_type": "code",
      "metadata": {
        "colab": {
          "base_uri": "https://localhost:8080/",
          "height": 515
        },
        "id": "61bf6fde",
        "outputId": "f9e32a6f-1623-4145-90ed-29e72837bc1f"
      },
      "source": [
        "plt.figure(figsize=(10,8))\n",
        "sb.countplot(data.Vehicle_Age,hue=data.Response)"
      ],
      "id": "61bf6fde",
      "execution_count": 12,
      "outputs": [
        {
          "output_type": "execute_result",
          "data": {
            "text/plain": [
              "<matplotlib.axes._subplots.AxesSubplot at 0x7f6d90524490>"
            ]
          },
          "metadata": {
            "tags": []
          },
          "execution_count": 12
        },
        {
          "output_type": "display_data",
          "data": {
            "image/png": "[encoded data removed]",
            "text/plain": [
              "<Figure size 720x576 with 1 Axes>"
            ]
          },
          "metadata": {
            "tags": [],
            "needs_background": "light"
          }
        }
      ]
    },
    {
      "cell_type": "markdown",
      "metadata": {
        "id": "9yN6qXkCTCHv"
      },
      "source": [
        "\n",
        "\n",
        "*   People who's vechile age lies between 1-2 Year's of age are more keen towards buying vehicle insurance .\n",
        "*   People who's vechile age is more than 2 Year's may already have previous insurance, hence less interested .\n",
        "\n",
        "*   People who's vechile age is less than 1 Year are not too much interested in buying insurance .\n",
        "\n",
        "\n",
        "\n",
        "\n",
        "\n"
      ],
      "id": "9yN6qXkCTCHv"
    },
    {
      "cell_type": "code",
      "metadata": {
        "colab": {
          "base_uri": "https://localhost:8080/",
          "height": 488
        },
        "id": "1dfe1c7f",
        "outputId": "c9b44b92-90a4-45d5-dec5-80881c3014cc"
      },
      "source": [
        "plt.figure(figsize=(8,8))\n",
        "plt.pie(data.Vehicle_Damage.value_counts(),startangle=80,autopct='%.2f',radius=3\n",
        "        ,labels=['Yes','No'])\n",
        "plt.title('Damaged Vehicle',fontdict={'fontsize':22,'fontweight':'bold'})\n",
        "plt.axis('equal')\n",
        "plt.show()"
      ],
      "id": "1dfe1c7f",
      "execution_count": 13,
      "outputs": [
        {
          "output_type": "display_data",
          "data": {
            "image/png": "[encoded data removed]",
            "text/plain": [
              "<Figure size 576x576 with 1 Axes>"
            ]
          },
          "metadata": {
            "tags": []
          }
        }
      ]
    },
    {
      "cell_type": "code",
      "metadata": {
        "colab": {
          "base_uri": "https://localhost:8080/",
          "height": 515
        },
        "id": "75b965bb",
        "outputId": "305d75f3-a4f5-4ca5-fba4-303c572efac8"
      },
      "source": [
        "plt.figure(figsize=(8,8))\n",
        "sb.countplot(data.Vehicle_Damage,hue=data.Response)"
      ],
      "id": "75b965bb",
      "execution_count": 14,
      "outputs": [
        {
          "output_type": "execute_result",
          "data": {
            "text/plain": [
              "<matplotlib.axes._subplots.AxesSubplot at 0x7f6d90400f50>"
            ]
          },
          "metadata": {
            "tags": []
          },
          "execution_count": 14
        },
        {
          "output_type": "display_data",
          "data": {
            "image/png": "[encoded data removed]",
            "text/plain": [
              "<Figure size 576x576 with 1 Axes>"
            ]
          },
          "metadata": {
            "tags": [],
            "needs_background": "light"
          }
        }
      ]
    },
    {
      "cell_type": "markdown",
      "metadata": {
        "id": "xdmf5CLPcJfx"
      },
      "source": [
        "Most of the people who are giving us positive response have sustained any damage to their vehicle in past ."
      ],
      "id": "xdmf5CLPcJfx"
    },
    {
      "cell_type": "code",
      "metadata": {
        "colab": {
          "base_uri": "https://localhost:8080/",
          "height": 514
        },
        "id": "bc3433ae",
        "outputId": "d28d1745-7913-4c2c-82e3-4d7a8d8adf7e"
      },
      "source": [
        "plt.figure(figsize=(8,8))\n",
        "sb.distplot(data.Age[data.Response==1])\n",
        "sb.distplot(data.Age[data.Response==0])"
      ],
      "id": "bc3433ae",
      "execution_count": 15,
      "outputs": [
        {
          "output_type": "execute_result",
          "data": {
            "text/plain": [
              "<matplotlib.axes._subplots.AxesSubplot at 0x7f6d904989d0>"
            ]
          },
          "metadata": {
            "tags": []
          },
          "execution_count": 15
        },
        {
          "output_type": "display_data",
          "data": {
            "image/png": "[encoded data removed]",
            "text/plain": [
              "<Figure size 576x576 with 1 Axes>"
            ]
          },
          "metadata": {
            "tags": [],
            "needs_background": "light"
          }
        }
      ]
    },
    {
      "cell_type": "markdown",
      "metadata": {
        "id": "13VWwV1Bc7l_"
      },
      "source": [
        "\n",
        "\n",
        "*   Here the blue curve represents to positive response i.e Response = 1 .\n",
        "\n",
        "*   And the orange curve represents to negative response i.e Response = 0 .\n",
        "\n",
        "*   We are getting positive response from those people who are likely to fall in category of age 35 - 50 Year's .\n",
        "\n",
        "*   Where as people who are less than 35 Year's old are less interested to take any vehicle insurance . \n",
        "\n",
        "*   From here what we can depict is that we need to focus on our audience who lies between the 35 - 50 Year's of age . \n",
        "\n",
        "\n",
        "\n"
      ],
      "id": "13VWwV1Bc7l_"
    },
    {
      "cell_type": "code",
      "metadata": {
        "colab": {
          "base_uri": "https://localhost:8080/",
          "height": 526
        },
        "id": "f9328538",
        "outputId": "884bd16b-bdca-4aee-f5f2-efbc0c6e5bb0"
      },
      "source": [
        "plt.figure(figsize=(8,8))\n",
        "sb.distplot(data.Annual_Premium[data.Response==1])\n",
        "plt.grid()\n",
        "plt.show()\n",
        "avg_Annual_Premium = data.Annual_Premium.mean()\n",
        "print(\"{}\".format(avg_Annual_Premium))"
      ],
      "id": "f9328538",
      "execution_count": 16,
      "outputs": [
        {
          "output_type": "display_data",
          "data": {
            "image/png": "[encoded data removed]",
            "text/plain": [
              "<Figure size 576x576 with 1 Axes>"
            ]
          },
          "metadata": {
            "tags": [],
            "needs_background": "light"
          }
        },
        {
          "output_type": "stream",
          "text": [
            "30564.389581458323\n"
          ],
          "name": "stdout"
        }
      ]
    },
    {
      "cell_type": "code",
      "metadata": {
        "colab": {
          "base_uri": "https://localhost:8080/",
          "height": 546
        },
        "id": "5c1e8280",
        "outputId": "e14e75ca-0045-42d4-cd85-8ae26dd4e884"
      },
      "source": [
        "plt.figure(figsize=(25,12))\n",
        "sb.countplot(data = data , x = 'Region_Code')\n",
        "plt.grid(axis='y')"
      ],
      "id": "5c1e8280",
      "execution_count": 17,
      "outputs": [
        {
          "output_type": "display_data",
          "data": {
            "image/png": "[encoded data removed]",
            "text/plain": [
              "<Figure size 1800x864 with 1 Axes>"
            ]
          },
          "metadata": {
            "tags": [],
            "needs_background": "light"
          }
        }
      ]
    },
    {
      "cell_type": "markdown",
      "metadata": {
        "id": "dFR9czCqjM56"
      },
      "source": [
        "**Mapping Values**\\\n",
        "Converting string values of some features into integer values ."
      ],
      "id": "dFR9czCqjM56"
    },
    {
      "cell_type": "code",
      "metadata": {
        "colab": {
          "base_uri": "https://localhost:8080/",
          "height": 254
        },
        "id": "874027b1",
        "outputId": "d2ec5fbd-65e6-4b9d-cf1c-983c5cc3ba4c"
      },
      "source": [
        "data.Gender=data.Gender.map({'Male':0 , 'Female':1})\n",
        "data.Vehicle_Damage=data.Vehicle_Damage.map({'Yes':0 , 'No':1})\n",
        "data.Vehicle_Age=data.Vehicle_Age.map({'< 1 Year':2 , '1-2 Year':1 \n",
        "                                       , '> 2 Years':0})\n",
        "data.head()"
      ],
      "id": "874027b1",
      "execution_count": 18,
      "outputs": [
        {
          "output_type": "execute_result",
          "data": {
            "text/html": [
              "<div>\n",
              "<style scoped>\n",
              "    .dataframe tbody tr th:only-of-type {\n",
              "        vertical-align: middle;\n",
              "    }\n",
              "\n",
              "    .dataframe tbody tr th {\n",
              "        vertical-align: top;\n",
              "    }\n",
              "\n",
              "    .dataframe thead th {\n",
              "        text-align: right;\n",
              "    }\n",
              "</style>\n",
              "<table border=\"1\" class=\"dataframe\">\n",
              "  <thead>\n",
              "    <tr style=\"text-align: right;\">\n",
              "      <th></th>\n",
              "      <th>Gender</th>\n",
              "      <th>Age</th>\n",
              "      <th>Driving_License</th>\n",
              "      <th>Region_Code</th>\n",
              "      <th>Previously_Insured</th>\n",
              "      <th>Vehicle_Age</th>\n",
              "      <th>Vehicle_Damage</th>\n",
              "      <th>Annual_Premium</th>\n",
              "      <th>Policy_Sales_Channel</th>\n",
              "      <th>Vintage</th>\n",
              "      <th>Response</th>\n",
              "    </tr>\n",
              "    <tr>\n",
              "      <th>id</th>\n",
              "      <th></th>\n",
              "      <th></th>\n",
              "      <th></th>\n",
              "      <th></th>\n",
              "      <th></th>\n",
              "      <th></th>\n",
              "      <th></th>\n",
              "      <th></th>\n",
              "      <th></th>\n",
              "      <th></th>\n",
              "      <th></th>\n",
              "    </tr>\n",
              "  </thead>\n",
              "  <tbody>\n",
              "    <tr>\n",
              "      <th>1</th>\n",
              "      <td>0</td>\n",
              "      <td>44</td>\n",
              "      <td>1</td>\n",
              "      <td>28.0</td>\n",
              "      <td>0</td>\n",
              "      <td>0</td>\n",
              "      <td>0</td>\n",
              "      <td>40454.0</td>\n",
              "      <td>26.0</td>\n",
              "      <td>217</td>\n",
              "      <td>1</td>\n",
              "    </tr>\n",
              "    <tr>\n",
              "      <th>2</th>\n",
              "      <td>0</td>\n",
              "      <td>76</td>\n",
              "      <td>1</td>\n",
              "      <td>3.0</td>\n",
              "      <td>0</td>\n",
              "      <td>1</td>\n",
              "      <td>1</td>\n",
              "      <td>33536.0</td>\n",
              "      <td>26.0</td>\n",
              "      <td>183</td>\n",
              "      <td>0</td>\n",
              "    </tr>\n",
              "    <tr>\n",
              "      <th>3</th>\n",
              "      <td>0</td>\n",
              "      <td>47</td>\n",
              "      <td>1</td>\n",
              "      <td>28.0</td>\n",
              "      <td>0</td>\n",
              "      <td>0</td>\n",
              "      <td>0</td>\n",
              "      <td>38294.0</td>\n",
              "      <td>26.0</td>\n",
              "      <td>27</td>\n",
              "      <td>1</td>\n",
              "    </tr>\n",
              "    <tr>\n",
              "      <th>4</th>\n",
              "      <td>0</td>\n",
              "      <td>21</td>\n",
              "      <td>1</td>\n",
              "      <td>11.0</td>\n",
              "      <td>1</td>\n",
              "      <td>2</td>\n",
              "      <td>1</td>\n",
              "      <td>28619.0</td>\n",
              "      <td>152.0</td>\n",
              "      <td>203</td>\n",
              "      <td>0</td>\n",
              "    </tr>\n",
              "    <tr>\n",
              "      <th>5</th>\n",
              "      <td>1</td>\n",
              "      <td>29</td>\n",
              "      <td>1</td>\n",
              "      <td>41.0</td>\n",
              "      <td>1</td>\n",
              "      <td>2</td>\n",
              "      <td>1</td>\n",
              "      <td>27496.0</td>\n",
              "      <td>152.0</td>\n",
              "      <td>39</td>\n",
              "      <td>0</td>\n",
              "    </tr>\n",
              "  </tbody>\n",
              "</table>\n",
              "</div>"
            ],
            "text/plain": [
              "    Gender  Age  Driving_License  ...  Policy_Sales_Channel  Vintage  Response\n",
              "id                                ...                                         \n",
              "1        0   44                1  ...                  26.0      217         1\n",
              "2        0   76                1  ...                  26.0      183         0\n",
              "3        0   47                1  ...                  26.0       27         1\n",
              "4        0   21                1  ...                 152.0      203         0\n",
              "5        1   29                1  ...                 152.0       39         0\n",
              "\n",
              "[5 rows x 11 columns]"
            ]
          },
          "metadata": {
            "tags": []
          },
          "execution_count": 18
        }
      ]
    },
    {
      "cell_type": "code",
      "metadata": {
        "id": "f793RnCpQsn4"
      },
      "source": [
        "Response_0_df = data[data['Response']==0]\n",
        "Response_1_df = data[data['Response']==1]"
      ],
      "id": "f793RnCpQsn4",
      "execution_count": 19,
      "outputs": []
    },
    {
      "cell_type": "code",
      "metadata": {
        "id": "XwW6NhtTQ8pB",
        "colab": {
          "base_uri": "https://localhost:8080/"
        },
        "outputId": "921bd063-04fb-4f8f-9e18-20aeb44de3f0"
      },
      "source": [
        "Response_0_df.shape"
      ],
      "id": "XwW6NhtTQ8pB",
      "execution_count": 20,
      "outputs": [
        {
          "output_type": "execute_result",
          "data": {
            "text/plain": [
              "(334399, 11)"
            ]
          },
          "metadata": {
            "tags": []
          },
          "execution_count": 20
        }
      ]
    },
    {
      "cell_type": "code",
      "metadata": {
        "id": "zJOAkhhRRNer",
        "colab": {
          "base_uri": "https://localhost:8080/"
        },
        "outputId": "b9f8504d-52af-42e1-caa3-b5c9024239bf"
      },
      "source": [
        "Response_1_df.shape"
      ],
      "id": "zJOAkhhRRNer",
      "execution_count": 21,
      "outputs": [
        {
          "output_type": "execute_result",
          "data": {
            "text/plain": [
              "(46710, 11)"
            ]
          },
          "metadata": {
            "tags": []
          },
          "execution_count": 21
        }
      ]
    },
    {
      "cell_type": "code",
      "metadata": {
        "id": "1Z_E1Rx5RyNm",
        "colab": {
          "base_uri": "https://localhost:8080/"
        },
        "outputId": "6ea07797-133b-49ff-fd28-a2450170d780"
      },
      "source": [
        "Response_1_df_over = Response_1_df.sample(334399,replace=True)\n",
        "Response_1_df_over.shape"
      ],
      "id": "1Z_E1Rx5RyNm",
      "execution_count": 22,
      "outputs": [
        {
          "output_type": "execute_result",
          "data": {
            "text/plain": [
              "(334399, 11)"
            ]
          },
          "metadata": {
            "tags": []
          },
          "execution_count": 22
        }
      ]
    },
    {
      "cell_type": "code",
      "metadata": {
        "id": "7W8RaJWeSE4Y",
        "colab": {
          "base_uri": "https://localhost:8080/",
          "height": 254
        },
        "outputId": "87fcf669-3c5b-4010-9e31-5d773a162fad"
      },
      "source": [
        "ModifiedData = pd.concat([Response_0_df,Response_1_df_over],axis=0)\n",
        "ModifiedData.head()"
      ],
      "id": "7W8RaJWeSE4Y",
      "execution_count": 23,
      "outputs": [
        {
          "output_type": "execute_result",
          "data": {
            "text/html": [
              "<div>\n",
              "<style scoped>\n",
              "    .dataframe tbody tr th:only-of-type {\n",
              "        vertical-align: middle;\n",
              "    }\n",
              "\n",
              "    .dataframe tbody tr th {\n",
              "        vertical-align: top;\n",
              "    }\n",
              "\n",
              "    .dataframe thead th {\n",
              "        text-align: right;\n",
              "    }\n",
              "</style>\n",
              "<table border=\"1\" class=\"dataframe\">\n",
              "  <thead>\n",
              "    <tr style=\"text-align: right;\">\n",
              "      <th></th>\n",
              "      <th>Gender</th>\n",
              "      <th>Age</th>\n",
              "      <th>Driving_License</th>\n",
              "      <th>Region_Code</th>\n",
              "      <th>Previously_Insured</th>\n",
              "      <th>Vehicle_Age</th>\n",
              "      <th>Vehicle_Damage</th>\n",
              "      <th>Annual_Premium</th>\n",
              "      <th>Policy_Sales_Channel</th>\n",
              "      <th>Vintage</th>\n",
              "      <th>Response</th>\n",
              "    </tr>\n",
              "    <tr>\n",
              "      <th>id</th>\n",
              "      <th></th>\n",
              "      <th></th>\n",
              "      <th></th>\n",
              "      <th></th>\n",
              "      <th></th>\n",
              "      <th></th>\n",
              "      <th></th>\n",
              "      <th></th>\n",
              "      <th></th>\n",
              "      <th></th>\n",
              "      <th></th>\n",
              "    </tr>\n",
              "  </thead>\n",
              "  <tbody>\n",
              "    <tr>\n",
              "      <th>2</th>\n",
              "      <td>0</td>\n",
              "      <td>76</td>\n",
              "      <td>1</td>\n",
              "      <td>3.0</td>\n",
              "      <td>0</td>\n",
              "      <td>1</td>\n",
              "      <td>1</td>\n",
              "      <td>33536.0</td>\n",
              "      <td>26.0</td>\n",
              "      <td>183</td>\n",
              "      <td>0</td>\n",
              "    </tr>\n",
              "    <tr>\n",
              "      <th>4</th>\n",
              "      <td>0</td>\n",
              "      <td>21</td>\n",
              "      <td>1</td>\n",
              "      <td>11.0</td>\n",
              "      <td>1</td>\n",
              "      <td>2</td>\n",
              "      <td>1</td>\n",
              "      <td>28619.0</td>\n",
              "      <td>152.0</td>\n",
              "      <td>203</td>\n",
              "      <td>0</td>\n",
              "    </tr>\n",
              "    <tr>\n",
              "      <th>5</th>\n",
              "      <td>1</td>\n",
              "      <td>29</td>\n",
              "      <td>1</td>\n",
              "      <td>41.0</td>\n",
              "      <td>1</td>\n",
              "      <td>2</td>\n",
              "      <td>1</td>\n",
              "      <td>27496.0</td>\n",
              "      <td>152.0</td>\n",
              "      <td>39</td>\n",
              "      <td>0</td>\n",
              "    </tr>\n",
              "    <tr>\n",
              "      <th>6</th>\n",
              "      <td>1</td>\n",
              "      <td>24</td>\n",
              "      <td>1</td>\n",
              "      <td>33.0</td>\n",
              "      <td>0</td>\n",
              "      <td>2</td>\n",
              "      <td>0</td>\n",
              "      <td>2630.0</td>\n",
              "      <td>160.0</td>\n",
              "      <td>176</td>\n",
              "      <td>0</td>\n",
              "    </tr>\n",
              "    <tr>\n",
              "      <th>7</th>\n",
              "      <td>0</td>\n",
              "      <td>23</td>\n",
              "      <td>1</td>\n",
              "      <td>11.0</td>\n",
              "      <td>0</td>\n",
              "      <td>2</td>\n",
              "      <td>0</td>\n",
              "      <td>23367.0</td>\n",
              "      <td>152.0</td>\n",
              "      <td>249</td>\n",
              "      <td>0</td>\n",
              "    </tr>\n",
              "  </tbody>\n",
              "</table>\n",
              "</div>"
            ],
            "text/plain": [
              "    Gender  Age  Driving_License  ...  Policy_Sales_Channel  Vintage  Response\n",
              "id                                ...                                         \n",
              "2        0   76                1  ...                  26.0      183         0\n",
              "4        0   21                1  ...                 152.0      203         0\n",
              "5        1   29                1  ...                 152.0       39         0\n",
              "6        1   24                1  ...                 160.0      176         0\n",
              "7        0   23                1  ...                 152.0      249         0\n",
              "\n",
              "[5 rows x 11 columns]"
            ]
          },
          "metadata": {
            "tags": []
          },
          "execution_count": 23
        }
      ]
    },
    {
      "cell_type": "code",
      "metadata": {
        "id": "rRjSo7p9SfV0",
        "colab": {
          "base_uri": "https://localhost:8080/",
          "height": 283
        },
        "outputId": "faee9765-5c16-4b63-92aa-66923faef711"
      },
      "source": [
        "sb.countplot(ModifiedData['Response'])\n",
        "plt.show()"
      ],
      "id": "rRjSo7p9SfV0",
      "execution_count": 24,
      "outputs": [
        {
          "output_type": "display_data",
          "data": {
            "image/png": "[encoded data removed]",
            "text/plain": [
              "<Figure size 432x288 with 1 Axes>"
            ]
          },
          "metadata": {
            "tags": [],
            "needs_background": "light"
          }
        }
      ]
    },
    {
      "cell_type": "markdown",
      "metadata": {
        "id": "VXzRVYi7jxx-"
      },
      "source": [
        "Plotting HeatMap to see correlation between features ."
      ],
      "id": "VXzRVYi7jxx-"
    },
    {
      "cell_type": "code",
      "metadata": {
        "colab": {
          "base_uri": "https://localhost:8080/",
          "height": 709
        },
        "id": "bc645163",
        "outputId": "8b8792b4-cd7e-49ac-cb20-ed1bb18f3a67"
      },
      "source": [
        "plt.figure(figsize=(13,10))\n",
        "correlation = ModifiedData.corr()\n",
        "sb.heatmap(correlation , annot=True)"
      ],
      "id": "bc645163",
      "execution_count": 25,
      "outputs": [
        {
          "output_type": "execute_result",
          "data": {
            "text/plain": [
              "<matplotlib.axes._subplots.AxesSubplot at 0x7f6d91514a10>"
            ]
          },
          "metadata": {
            "tags": []
          },
          "execution_count": 25
        },
        {
          "output_type": "display_data",
          "data": {
            "image/png": "[encoded data removed]",
            "text/plain": [
              "<Figure size 936x720 with 2 Axes>"
            ]
          },
          "metadata": {
            "tags": [],
            "needs_background": "light"
          }
        }
      ]
    },
    {
      "cell_type": "markdown",
      "metadata": {
        "id": "C2Cr6szllotF"
      },
      "source": [
        "**Data Preprocessing**\\\n",
        "We will be using StandardScaler method for preprocessing . StandardScaler follows Standard Normal Distribution . Therefore, it makes mean = 0 and scales the data to unit variance .\n"
      ],
      "id": "C2Cr6szllotF"
    },
    {
      "cell_type": "code",
      "metadata": {
        "colab": {
          "base_uri": "https://localhost:8080/",
          "height": 234
        },
        "id": "q0xikv1VVZ7l",
        "outputId": "eb239c2d-77d2-4a24-f118-2701976817d6"
      },
      "source": [
        "X = ModifiedData.iloc[:,1:-1]\n",
        "X.head()"
      ],
      "id": "q0xikv1VVZ7l",
      "execution_count": 26,
      "outputs": [
        {
          "output_type": "execute_result",
          "data": {
            "text/html": [
              "<div>\n",
              "<style scoped>\n",
              "    .dataframe tbody tr th:only-of-type {\n",
              "        vertical-align: middle;\n",
              "    }\n",
              "\n",
              "    .dataframe tbody tr th {\n",
              "        vertical-align: top;\n",
              "    }\n",
              "\n",
              "    .dataframe thead th {\n",
              "        text-align: right;\n",
              "    }\n",
              "</style>\n",
              "<table border=\"1\" class=\"dataframe\">\n",
              "  <thead>\n",
              "    <tr style=\"text-align: right;\">\n",
              "      <th></th>\n",
              "      <th>Age</th>\n",
              "      <th>Driving_License</th>\n",
              "      <th>Region_Code</th>\n",
              "      <th>Previously_Insured</th>\n",
              "      <th>Vehicle_Age</th>\n",
              "      <th>Vehicle_Damage</th>\n",
              "      <th>Annual_Premium</th>\n",
              "      <th>Policy_Sales_Channel</th>\n",
              "      <th>Vintage</th>\n",
              "    </tr>\n",
              "    <tr>\n",
              "      <th>id</th>\n",
              "      <th></th>\n",
              "      <th></th>\n",
              "      <th></th>\n",
              "      <th></th>\n",
              "      <th></th>\n",
              "      <th></th>\n",
              "      <th></th>\n",
              "      <th></th>\n",
              "      <th></th>\n",
              "    </tr>\n",
              "  </thead>\n",
              "  <tbody>\n",
              "    <tr>\n",
              "      <th>2</th>\n",
              "      <td>76</td>\n",
              "      <td>1</td>\n",
              "      <td>3.0</td>\n",
              "      <td>0</td>\n",
              "      <td>1</td>\n",
              "      <td>1</td>\n",
              "      <td>33536.0</td>\n",
              "      <td>26.0</td>\n",
              "      <td>183</td>\n",
              "    </tr>\n",
              "    <tr>\n",
              "      <th>4</th>\n",
              "      <td>21</td>\n",
              "      <td>1</td>\n",
              "      <td>11.0</td>\n",
              "      <td>1</td>\n",
              "      <td>2</td>\n",
              "      <td>1</td>\n",
              "      <td>28619.0</td>\n",
              "      <td>152.0</td>\n",
              "      <td>203</td>\n",
              "    </tr>\n",
              "    <tr>\n",
              "      <th>5</th>\n",
              "      <td>29</td>\n",
              "      <td>1</td>\n",
              "      <td>41.0</td>\n",
              "      <td>1</td>\n",
              "      <td>2</td>\n",
              "      <td>1</td>\n",
              "      <td>27496.0</td>\n",
              "      <td>152.0</td>\n",
              "      <td>39</td>\n",
              "    </tr>\n",
              "    <tr>\n",
              "      <th>6</th>\n",
              "      <td>24</td>\n",
              "      <td>1</td>\n",
              "      <td>33.0</td>\n",
              "      <td>0</td>\n",
              "      <td>2</td>\n",
              "      <td>0</td>\n",
              "      <td>2630.0</td>\n",
              "      <td>160.0</td>\n",
              "      <td>176</td>\n",
              "    </tr>\n",
              "    <tr>\n",
              "      <th>7</th>\n",
              "      <td>23</td>\n",
              "      <td>1</td>\n",
              "      <td>11.0</td>\n",
              "      <td>0</td>\n",
              "      <td>2</td>\n",
              "      <td>0</td>\n",
              "      <td>23367.0</td>\n",
              "      <td>152.0</td>\n",
              "      <td>249</td>\n",
              "    </tr>\n",
              "  </tbody>\n",
              "</table>\n",
              "</div>"
            ],
            "text/plain": [
              "    Age  Driving_License  ...  Policy_Sales_Channel  Vintage\n",
              "id                        ...                               \n",
              "2    76                1  ...                  26.0      183\n",
              "4    21                1  ...                 152.0      203\n",
              "5    29                1  ...                 152.0       39\n",
              "6    24                1  ...                 160.0      176\n",
              "7    23                1  ...                 152.0      249\n",
              "\n",
              "[5 rows x 9 columns]"
            ]
          },
          "metadata": {
            "tags": []
          },
          "execution_count": 26
        }
      ]
    },
    {
      "cell_type": "code",
      "metadata": {
        "colab": {
          "base_uri": "https://localhost:8080/"
        },
        "id": "hO-8Wl8XXYb4",
        "outputId": "640f8fb0-bcc0-4c17-f2cc-ef6762f914a0"
      },
      "source": [
        "Y = ModifiedData['Response']\n",
        "Y.head()"
      ],
      "id": "hO-8Wl8XXYb4",
      "execution_count": 27,
      "outputs": [
        {
          "output_type": "execute_result",
          "data": {
            "text/plain": [
              "id\n",
              "2    0\n",
              "4    0\n",
              "5    0\n",
              "6    0\n",
              "7    0\n",
              "Name: Response, dtype: int64"
            ]
          },
          "metadata": {
            "tags": []
          },
          "execution_count": 27
        }
      ]
    },
    {
      "cell_type": "code",
      "metadata": {
        "id": "7db098c0"
      },
      "source": [
        "from sklearn.preprocessing import StandardScaler\n",
        "sc = StandardScaler()\n",
        "X = sc.fit_transform(X)"
      ],
      "id": "7db098c0",
      "execution_count": 28,
      "outputs": []
    },
    {
      "cell_type": "markdown",
      "metadata": {
        "id": "88r_5pLCm4Py"
      },
      "source": [
        "**Spliting train-test Data**"
      ],
      "id": "88r_5pLCm4Py"
    },
    {
      "cell_type": "code",
      "metadata": {
        "id": "9957c995"
      },
      "source": [
        "from sklearn.model_selection import train_test_split\n",
        "X_train , X_test , Y_train , Y_test = train_test_split(X , Y , test_size=0.20 \n",
        "                                                  , random_state=1, stratify=Y)"
      ],
      "id": "9957c995",
      "execution_count": 29,
      "outputs": []
    },
    {
      "cell_type": "markdown",
      "metadata": {
        "id": "4yWiRWRcn9LR"
      },
      "source": [
        "**Model Training and Evaluation**\n",
        "*   By seeing the dataset we have got an idea that either people will agree to take insurance or they will not .\n",
        "*   So there are only two possible outcomes either Yes(Response=1) or No(Response=0) regarding taking insurance .\n",
        "*   Therefore, this becomes a classification problem . To solve classification problem there are several algorithms like :\n",
        "\n",
        "    1.   Logistic regression\n",
        "    2.   Decision Trees\n",
        "    1.   Random Forest\n",
        "    2.   XGBoost \n",
        "\n",
        "*   We will be training our model on these algorithms and evaluate which gives us higher accuracy . \n",
        "\n",
        "\n",
        "\n",
        "\n",
        "\n"
      ],
      "id": "4yWiRWRcn9LR"
    },
    {
      "cell_type": "code",
      "metadata": {
        "id": "f4wkKniosvcy"
      },
      "source": [
        "accuracy_scores = {}"
      ],
      "id": "f4wkKniosvcy",
      "execution_count": 30,
      "outputs": []
    },
    {
      "cell_type": "markdown",
      "metadata": {
        "id": "440f6752"
      },
      "source": [
        "1. LOGISTIC REGRESSION"
      ],
      "id": "440f6752"
    },
    {
      "cell_type": "code",
      "metadata": {
        "colab": {
          "base_uri": "https://localhost:8080/"
        },
        "id": "05d19b50",
        "outputId": "85b147c4-783a-4b08-dd3d-5ea7b03bef8f"
      },
      "source": [
        "from sklearn.linear_model import LogisticRegression\n",
        "from sklearn.metrics import confusion_matrix,classification_report,accuracy_score\n",
        "LRModel = LogisticRegression()\n",
        "LRModel.fit(X_train,Y_train)"
      ],
      "id": "05d19b50",
      "execution_count": 31,
      "outputs": [
        {
          "output_type": "execute_result",
          "data": {
            "text/plain": [
              "LogisticRegression(C=1.0, class_weight=None, dual=False, fit_intercept=True,\n",
              "                   intercept_scaling=1, l1_ratio=None, max_iter=100,\n",
              "                   multi_class='auto', n_jobs=None, penalty='l2',\n",
              "                   random_state=None, solver='lbfgs', tol=0.0001, verbose=0,\n",
              "                   warm_start=False)"
            ]
          },
          "metadata": {
            "tags": []
          },
          "execution_count": 31
        }
      ]
    },
    {
      "cell_type": "code",
      "metadata": {
        "id": "3421452a",
        "colab": {
          "base_uri": "https://localhost:8080/"
        },
        "outputId": "f3c43a3f-eed1-42de-89a9-01fa5ff9bbb6"
      },
      "source": [
        "predict_YLR = LRModel.predict(X_test)\n",
        "print(confusion_matrix(Y_test,predict_YLR))\n",
        "accuracy_scores['LRModel']=accuracy_score(Y_test,predict_YLR)*100"
      ],
      "id": "3421452a",
      "execution_count": 32,
      "outputs": [
        {
          "output_type": "stream",
          "text": [
            "[[39418 27462]\n",
            " [ 1583 65297]]\n"
          ],
          "name": "stdout"
        }
      ]
    },
    {
      "cell_type": "code",
      "metadata": {
        "colab": {
          "base_uri": "https://localhost:8080/"
        },
        "id": "d6beee4a",
        "outputId": "a5ef6eea-5732-41a9-c13d-f9c850150c6f"
      },
      "source": [
        "print(\"TEST REPORT : \\n\")\n",
        "print(\"accuracy score on test data : {}\".format(accuracy_score(Y_test\n",
        "                                                            ,predict_YLR)*100))"
      ],
      "id": "d6beee4a",
      "execution_count": 33,
      "outputs": [
        {
          "output_type": "stream",
          "text": [
            "TEST REPORT : \n",
            "\n",
            "accuracy score on test data : 78.28573564593302\n"
          ],
          "name": "stdout"
        }
      ]
    },
    {
      "cell_type": "markdown",
      "metadata": {
        "id": "3296fe63"
      },
      "source": [
        "2. DECISION TREE"
      ],
      "id": "3296fe63"
    },
    {
      "cell_type": "code",
      "metadata": {
        "colab": {
          "base_uri": "https://localhost:8080/"
        },
        "id": "5d423640",
        "outputId": "d8e136dd-89d4-4f0c-ecd0-a93d8f5ea51b"
      },
      "source": [
        "from sklearn import tree\n",
        "DTModel = tree.DecisionTreeClassifier()\n",
        "DTModel.fit(X_train,Y_train)"
      ],
      "id": "5d423640",
      "execution_count": 34,
      "outputs": [
        {
          "output_type": "execute_result",
          "data": {
            "text/plain": [
              "DecisionTreeClassifier(ccp_alpha=0.0, class_weight=None, criterion='gini',\n",
              "                       max_depth=None, max_features=None, max_leaf_nodes=None,\n",
              "                       min_impurity_decrease=0.0, min_impurity_split=None,\n",
              "                       min_samples_leaf=1, min_samples_split=2,\n",
              "                       min_weight_fraction_leaf=0.0, presort='deprecated',\n",
              "                       random_state=None, splitter='best')"
            ]
          },
          "metadata": {
            "tags": []
          },
          "execution_count": 34
        }
      ]
    },
    {
      "cell_type": "code",
      "metadata": {
        "colab": {
          "base_uri": "https://localhost:8080/"
        },
        "id": "7f84cd26",
        "outputId": "73107bfc-14a8-4257-f923-85bf4b8928a9"
      },
      "source": [
        "predict_YDT=DTModel.predict(X_test)\n",
        "print(confusion_matrix(Y_test,predict_YDT))\n",
        "accuracy_scores['DTModel']=accuracy_score(Y_test,predict_YDT)*100"
      ],
      "id": "7f84cd26",
      "execution_count": 35,
      "outputs": [
        {
          "output_type": "stream",
          "text": [
            "[[59417  7463]\n",
            " [  128 66752]]\n"
          ],
          "name": "stdout"
        }
      ]
    },
    {
      "cell_type": "code",
      "metadata": {
        "colab": {
          "base_uri": "https://localhost:8080/"
        },
        "id": "35c7c6a7",
        "outputId": "ad9a9eb3-819c-4a16-c834-2669fba3226a"
      },
      "source": [
        "print(\"TEST REPORT : \\n\")\n",
        "print(classification_report(Y_test,predict_YDT))"
      ],
      "id": "35c7c6a7",
      "execution_count": 36,
      "outputs": [
        {
          "output_type": "stream",
          "text": [
            "TEST REPORT : \n",
            "\n",
            "              precision    recall  f1-score   support\n",
            "\n",
            "           0       1.00      0.89      0.94     66880\n",
            "           1       0.90      1.00      0.95     66880\n",
            "\n",
            "    accuracy                           0.94    133760\n",
            "   macro avg       0.95      0.94      0.94    133760\n",
            "weighted avg       0.95      0.94      0.94    133760\n",
            "\n"
          ],
          "name": "stdout"
        }
      ]
    },
    {
      "cell_type": "markdown",
      "metadata": {
        "id": "577f9a60"
      },
      "source": [
        "3. RANDOM FOREST"
      ],
      "id": "577f9a60"
    },
    {
      "cell_type": "code",
      "metadata": {
        "colab": {
          "base_uri": "https://localhost:8080/"
        },
        "id": "d841bdfa",
        "outputId": "769ec677-e168-4e2d-ceb5-e9ada85a5c03"
      },
      "source": [
        "from sklearn.ensemble import RandomForestClassifier\n",
        "RFModel = RandomForestClassifier()\n",
        "RFModel.fit(X_train,Y_train)"
      ],
      "id": "d841bdfa",
      "execution_count": 37,
      "outputs": [
        {
          "output_type": "execute_result",
          "data": {
            "text/plain": [
              "RandomForestClassifier(bootstrap=True, ccp_alpha=0.0, class_weight=None,\n",
              "                       criterion='gini', max_depth=None, max_features='auto',\n",
              "                       max_leaf_nodes=None, max_samples=None,\n",
              "                       min_impurity_decrease=0.0, min_impurity_split=None,\n",
              "                       min_samples_leaf=1, min_samples_split=2,\n",
              "                       min_weight_fraction_leaf=0.0, n_estimators=100,\n",
              "                       n_jobs=None, oob_score=False, random_state=None,\n",
              "                       verbose=0, warm_start=False)"
            ]
          },
          "metadata": {
            "tags": []
          },
          "execution_count": 37
        }
      ]
    },
    {
      "cell_type": "code",
      "metadata": {
        "colab": {
          "base_uri": "https://localhost:8080/"
        },
        "id": "db18e011",
        "outputId": "c8e473cc-84bb-4e9a-fbaf-be52d1cdc3e3"
      },
      "source": [
        "predict_YRF=RFModel.predict(X_test)\n",
        "print(confusion_matrix(Y_test,predict_YRF))\n",
        "accuracy_scores['RFModel']=accuracy_score(Y_test,predict_YRF)*100"
      ],
      "id": "db18e011",
      "execution_count": 38,
      "outputs": [
        {
          "output_type": "stream",
          "text": [
            "[[59943  6937]\n",
            " [  135 66745]]\n"
          ],
          "name": "stdout"
        }
      ]
    },
    {
      "cell_type": "code",
      "metadata": {
        "colab": {
          "base_uri": "https://localhost:8080/"
        },
        "id": "30c387f9",
        "outputId": "77156111-81cf-45d1-d91b-3f85ce916270"
      },
      "source": [
        "print(\"TEST REPORT : \\n\")\n",
        "print(classification_report(Y_test,predict_YRF))"
      ],
      "id": "30c387f9",
      "execution_count": 39,
      "outputs": [
        {
          "output_type": "stream",
          "text": [
            "TEST REPORT : \n",
            "\n",
            "              precision    recall  f1-score   support\n",
            "\n",
            "           0       1.00      0.90      0.94     66880\n",
            "           1       0.91      1.00      0.95     66880\n",
            "\n",
            "    accuracy                           0.95    133760\n",
            "   macro avg       0.95      0.95      0.95    133760\n",
            "weighted avg       0.95      0.95      0.95    133760\n",
            "\n"
          ],
          "name": "stdout"
        }
      ]
    },
    {
      "cell_type": "markdown",
      "metadata": {
        "id": "3qLEKhfOeUhz"
      },
      "source": [
        "XGBOOST"
      ],
      "id": "3qLEKhfOeUhz"
    },
    {
      "cell_type": "code",
      "metadata": {
        "colab": {
          "base_uri": "https://localhost:8080/"
        },
        "id": "pgETP95Reigg",
        "outputId": "d0cb82a3-6d2c-4067-bb1f-3f0f58d825c6"
      },
      "source": [
        "from xgboost import XGBClassifier\n",
        "xgb = XGBClassifier(n_estimators=600,learning_rate=0.02)\n",
        "xgb.fit(X_train,Y_train)"
      ],
      "id": "pgETP95Reigg",
      "execution_count": 40,
      "outputs": [
        {
          "output_type": "execute_result",
          "data": {
            "text/plain": [
              "XGBClassifier(base_score=0.5, booster='gbtree', colsample_bylevel=1,\n",
              "              colsample_bynode=1, colsample_bytree=1, gamma=0,\n",
              "              learning_rate=0.02, max_delta_step=0, max_depth=3,\n",
              "              min_child_weight=1, missing=None, n_estimators=600, n_jobs=1,\n",
              "              nthread=None, objective='binary:logistic', random_state=0,\n",
              "              reg_alpha=0, reg_lambda=1, scale_pos_weight=1, seed=None,\n",
              "              silent=None, subsample=1, verbosity=1)"
            ]
          },
          "metadata": {
            "tags": []
          },
          "execution_count": 40
        }
      ]
    },
    {
      "cell_type": "code",
      "metadata": {
        "colab": {
          "base_uri": "https://localhost:8080/"
        },
        "id": "NFVxS4fSgXcP",
        "outputId": "4d155782-8dea-42eb-c787-cb985527606b"
      },
      "source": [
        "predict_xgb=xgb.predict(X_test)\n",
        "print(confusion_matrix(Y_test,predict_xgb))\n",
        "accuracy_scores['xgb']=accuracy_score(Y_test,predict_xgb)*100"
      ],
      "id": "NFVxS4fSgXcP",
      "execution_count": 41,
      "outputs": [
        {
          "output_type": "stream",
          "text": [
            "[[44661 22219]\n",
            " [ 4884 61996]]\n"
          ],
          "name": "stdout"
        }
      ]
    },
    {
      "cell_type": "code",
      "metadata": {
        "colab": {
          "base_uri": "https://localhost:8080/"
        },
        "id": "Fh0TmGA9hf5X",
        "outputId": "642db370-2f39-418c-eeb9-2345c58dec87"
      },
      "source": [
        "print(\"TEST REPORT : \\n\")\n",
        "print(classification_report(Y_test,predict_xgb))"
      ],
      "id": "Fh0TmGA9hf5X",
      "execution_count": 42,
      "outputs": [
        {
          "output_type": "stream",
          "text": [
            "TEST REPORT : \n",
            "\n",
            "              precision    recall  f1-score   support\n",
            "\n",
            "           0       0.90      0.67      0.77     66880\n",
            "           1       0.74      0.93      0.82     66880\n",
            "\n",
            "    accuracy                           0.80    133760\n",
            "   macro avg       0.82      0.80      0.79    133760\n",
            "weighted avg       0.82      0.80      0.79    133760\n",
            "\n"
          ],
          "name": "stdout"
        }
      ]
    },
    {
      "cell_type": "code",
      "metadata": {
        "colab": {
          "base_uri": "https://localhost:8080/",
          "height": 500
        },
        "id": "9cZZB2OUuNRT",
        "outputId": "bbd59d24-edc0-43ad-bb27-6f3bf4e608c2"
      },
      "source": [
        "plt.figure(figsize=(10, 8))\n",
        "accuracies = list(accuracy_scores.values())\n",
        "names = list(accuracy_scores.keys())\n",
        "sb.barplot(x=accuracies, y=names)\n",
        "plt.grid\n",
        "plt.legend\n",
        "plt.show\n",
        "print(accuracy_scores)"
      ],
      "id": "9cZZB2OUuNRT",
      "execution_count": 43,
      "outputs": [
        {
          "output_type": "stream",
          "text": [
            "{'LRModel': 78.28573564593302, 'DTModel': 94.32491028708134, 'RFModel': 94.71291866028709, 'xgb': 79.73758971291865}\n"
          ],
          "name": "stdout"
        },
        {
          "output_type": "display_data",
          "data": {
            "image/png": "[encoded data removed]",
            "text/plain": [
              "<Figure size 720x576 with 1 Axes>"
            ]
          },
          "metadata": {
            "tags": [],
            "needs_background": "light"
          }
        }
      ]
    },
    {
      "cell_type": "code",
      "metadata": {
        "id": "e0_yoYe7RJ2c"
      },
      "source": [
        "pickle.dump(LRModel,open('Insurance(LRModel).pkl','wb'))\n",
        "pickle.dump(DTModel,open('Insurance(DTModel).pkl','wb'))\n",
        "pickle.dump(RFModel,open('Insurance(RFModel).pkl','wb'))\n",
        "pickle.dump(xgb,open('Insurance(xgb).pkl','wb'))"
      ],
      "id": "e0_yoYe7RJ2c",
      "execution_count": 44,
      "outputs": []
    },
    {
      "cell_type": "markdown",
      "metadata": {
        "id": "_j-n0rYCyTcJ"
      },
      "source": [
        "**Conclusion**\n",
        "\n",
        "*   People who have experienced vehicle damage in past are interested to take insurance.\n",
        "*   People who will be intrested in insurance will mostly have faced damage to their vehicle in past .\n",
        "*   People who have used their vehicle's for 1-2 Year's will give good response toward insurance policy .\n",
        "*   On an average a customer has to pay an amount of ₹ 30,564 .\n",
        "*   From the above barplot it is clearly visible that our model is giving us very accurate predictions while using Random Forest algorithm."
      ],
      "id": "_j-n0rYCyTcJ"
    }
  ]
}